{
 "cells": [
  {
   "cell_type": "markdown",
   "metadata": {},
   "source": [
    "# Announcement-on-ML\n",
    "<a href='http://www.kgptalkie.com' target=\"_blank\"> <img src='https://github.com/laxmimerit/Important-Announcement-on-ML/raw/master/kgptalkie_strips.png'/></a>\n",
    "\n",
    "# ML Resources\n",
    "|  ML Course | Description |\n",
    "|:---|:---|\n",
    "| [**Master LangGraph with Ollama - Agentic Chatbot and RAG**](https://www.udemy.com/course/langgraph-with-ollama/?referralCode=B646DCB44A189BEBC20C) | Master LangGraph, Ollama, and Agentic RAG. Ollama, LLAMA, LLAMA 3.2, FAISS, RAG, Deploy RAG, Gen AI, LLM|\n",
    "| [**Master Langchain and Ollama - Chatbot, RAG and Agents**](https://www.udemy.com/course/ollama-and-langchain/?referralCode=7F4C0C7B8CF223BA9327) | Master Langchain v0.3, Private Chatbot, Deploy LLM App.  Ollama, LLAMA, LLAMA 3.2, FAISS, RAG, Deploy RAG, Gen AI, LLM|\n",
    "| [**Fine Tuning LLM with HuggingFace Transformers for NLP**](https://www.udemy.com/course/fine-tuning-llm-with-hugging-face-transformers/?referralCode=6DEB3BE17C2644422D8E) | Learn how to fine tune LLM with custom dataset. You will learn basics of transformers then fine tune LLM|\n",
    "| [**Data Visualization in Python Masterclass™: Beginners to Pro**](https://bit.ly/udemy95off_kgptalkie) |  Learn to build Machine Learning and Deep Learning models using Python and its libraries like Scikit-Learn, Keras, and TensorFlow. |\n",
    "| [**Python for Machine Learning: A Step-by-Step Guide**](https://bit.ly/ml-ds-project) | Learn to build Machine Learning and Deep Learning models using Python and its libraries like Scikit-Learn, Keras, and TensorFlow. |\n",
    "| [**Deep Learning for Beginners with Python**](https://bit.ly/dl-with-python) | Neural Networks, TensorFlow, ANN, CNN, RNN, LSTM, Transfer Learning and Much More. |\n",
    "| [**Python for Linear Regression in Machine Learning**](https://bit.ly/regression-python) | Learn to build Linear Regression models using Python and its libraries like Scikit-Learn. |\n",
    "| [**Introduction to Spacy 3 for Natural Language Processing**](https://bit.ly/spacy-intro) | Learn to build Natural Language Processing models using Python and its libraries like Spacy. |\n",
    "| [**Advanced Machine Learning and Deep Learning Projects**](https://bit.ly/kgptalkie_ml_projects) | Learn to build Advanced Machine Learning and Deep Learning models using Python and transformer models like BERT, GPT-2, and XLNet. |\n",
    "| [**Natural Language Processing in Python for Beginners**](https://bit.ly/intro_nlp) | Learn to build Natural Language Processing Projects using Spacy, NLTK, and Gensim, and transformer models like BERT, GPT-2, and XLNet. |\n",
    "| [**Deployment of Machine Learning Models in Production in Python**](https://bit.ly/bert_nlp) |  Learn to deploy Machine Learning and Deep Learning models using Python and its libraries like Flask, Streamlit, and NGINX. |\n",
    "| [**R 4.0 Programming for Data Science - Beginners to Pro**](https://bit.ly/r4-ml) | Learn to build Machine Learning and Deep Learning models using R and its libraries like caret, tidyverse, and keras. |\n"
   ]
  },
  {
   "cell_type": "markdown",
   "metadata": {},
   "source": [
    "## Chatbot with LangGraph - Baby Step Toward Agents"
   ]
  },
  {
   "cell_type": "code",
   "execution_count": 1,
   "metadata": {},
   "outputs": [
    {
     "data": {
      "text/plain": [
       "True"
      ]
     },
     "execution_count": 1,
     "metadata": {},
     "output_type": "execute_result"
    }
   ],
   "source": [
    "from dotenv import load_dotenv\n",
    "import os\n",
    "\n",
    "load_dotenv('../.env')"
   ]
  },
  {
   "cell_type": "code",
   "execution_count": 2,
   "metadata": {},
   "outputs": [
    {
     "data": {
      "text/plain": [
       "AIMessage(content='How can I assist you today?', additional_kwargs={}, response_metadata={'model': 'llama3.2:3b', 'created_at': '2024-11-25T16:14:28.6520442Z', 'done': True, 'done_reason': 'stop', 'total_duration': 2085597200, 'load_duration': 1771953700, 'prompt_eval_count': 26, 'prompt_eval_duration': 77575000, 'eval_count': 8, 'eval_duration': 233223000, 'message': Message(role='assistant', content='', images=None, tool_calls=None)}, id='run-ebdad0ca-d1fd-4db5-b574-a74c5c783cc3-0', usage_metadata={'input_tokens': 26, 'output_tokens': 8, 'total_tokens': 34})"
      ]
     },
     "execution_count": 2,
     "metadata": {},
     "output_type": "execute_result"
    }
   ],
   "source": [
    "from typing import Annotated, TypedDict \n",
    "from langgraph.graph import  StateGraph, START, END\n",
    "\n",
    "from langgraph.graph.message import add_messages \n",
    "\n",
    "from langchain_ollama import ChatOllama\n",
    "from IPython.display import display, Image\n",
    "\n",
    "llm = ChatOllama(model=\"llama3.2:3b\", base_url = \"http://localhost:11434\")\n",
    "\n",
    "llm.invoke(\"Hi\")"
   ]
  },
  {
   "cell_type": "code",
   "execution_count": 37,
   "metadata": {},
   "outputs": [
    {
     "data": {
      "image/jpeg": "[encoded data removed]",
      "text/plain": [
       "<IPython.core.display.Image object>"
      ]
     },
     "metadata": {},
     "output_type": "display_data"
    }
   ],
   "source": [
    "class State(TypedDict):\n",
    "    # {\"messages\": [\"your message\"]}\n",
    "    messages: Annotated[list, add_messages]\n",
    "\n",
    "\n",
    "def chatbot(state: State):\n",
    "    response = llm.invoke(state[\"messages\"])\n",
    "    return {\"messages\": [response]}\n",
    "\n",
    "\n",
    "graph_builder = StateGraph(State)\n",
    "graph_builder.add_node(\"chatbot\", chatbot)\n",
    "\n",
    "graph_builder.add_edge(START, \"chatbot\")\n",
    "\n",
    "graph_builder.add_edge(\"chatbot\", END)\n",
    "\n",
    "graph = graph_builder.compile()\n",
    "\n",
    "\n",
    "display(Image(graph.get_graph().draw_mermaid_png()))"
   ]
  },
  {
   "cell_type": "code",
   "execution_count": 38,
   "metadata": {},
   "outputs": [
    {
     "data": {
      "text/plain": [
       "{'messages': [HumanMessage(content='Hi', additional_kwargs={}, response_metadata={}, id='f3bd60ba-4db7-4963-9e80-5831ef83fdbd'),\n",
       "  HumanMessage(content='myself is laxmi kant', additional_kwargs={}, response_metadata={}, id='e79f4f8b-7e55-4adc-9374-1b5ce87031a8'),\n",
       "  AIMessage(content=\"Namaste Laxmi Kant! It's lovely to meet you. Is there anything I can help you with or would you like to chat?\", additional_kwargs={}, response_metadata={'model': 'llama3.2:3b', 'created_at': '2024-11-25T14:39:39.7364179Z', 'message': {'role': 'assistant', 'content': ''}, 'done_reason': 'stop', 'done': True, 'total_duration': 1395897500, 'load_duration': 28059900, 'prompt_eval_count': 34, 'prompt_eval_duration': 51746000, 'eval_count': 30, 'eval_duration': 1311565000}, id='run-adde00a9-d0a0-4cce-9164-ae59fe8223e8-0', usage_metadata={'input_tokens': 34, 'output_tokens': 30, 'total_tokens': 64})]}"
      ]
     },
     "execution_count": 38,
     "metadata": {},
     "output_type": "execute_result"
    }
   ],
   "source": [
    "graph.invoke({\"messages\": [\"Hi\", \"myself is laxmi kant\"]})"
   ]
  },
  {
   "cell_type": "markdown",
   "metadata": {},
   "source": [
    "### Enhancing the Chatbot with Tools and Memory- Making it More Like an Agent"
   ]
  },
  {
   "cell_type": "markdown",
   "metadata": {},
   "source": [
    "https://github.com/laxmimerit/Langchain-and-Ollama"
   ]
  },
  {
   "cell_type": "code",
   "execution_count": 40,
   "metadata": {},
   "outputs": [],
   "source": [
    "from langchain_community.tools.tavily_search import TavilySearchResults\n",
    "from langgraph.prebuilt import ToolNode, tools_condition\n",
    "\n",
    "from langchain_core.messages import HumanMessage\n",
    "from langchain_core.tools import tool\n",
    "\n",
    "\n",
    "llm = ChatOllama(model=\"llama3.2:3b\", base_url = \"http://localhost:11434\")"
   ]
  },
  {
   "cell_type": "code",
   "execution_count": 57,
   "metadata": {},
   "outputs": [],
   "source": [
    "@tool\n",
    "def internet_search(query: str):\n",
    "    \"\"\"\n",
    "    Search the web for realtime and latest information.\n",
    "    for examples, news, stock market, weather updates etc.\n",
    "    \n",
    "    Args:\n",
    "    query: The search query\n",
    "    \"\"\"\n",
    "    search = TavilySearchResults(\n",
    "        max_results=3,\n",
    "        search_depth='advanced',\n",
    "        include_answer=True,\n",
    "        include_raw_content=True,\n",
    "    )\n",
    "\n",
    "    response = search.invoke(query)\n",
    "\n",
    "    return response\n",
    "\n",
    "@tool\n",
    "def llm_search(query: str):\n",
    "    \"\"\"\n",
    "    Use the LLM model for general and basic information.\n",
    "    \"\"\"\n",
    "    response = llm.invoke(query)\n",
    "    return response"
   ]
  },
  {
   "cell_type": "code",
   "execution_count": 58,
   "metadata": {},
   "outputs": [
    {
     "data": {
      "text/plain": [
       "[StructuredTool(name='internet_search', description='Search the web for realtime and latest information.\\nfor examples, news, stock market, weather updates etc.\\n\\nArgs:\\nquery: The search query', args_schema=<class 'langchain_core.utils.pydantic.internet_search'>, func=<function internet_search at 0x000001C7A1FB05E0>),\n",
       " StructuredTool(name='llm_search', description='Use the LLM model for general and basic information.', args_schema=<class 'langchain_core.utils.pydantic.llm_search'>, func=<function llm_search at 0x000001C7A1FB0860>)]"
      ]
     },
     "execution_count": 58,
     "metadata": {},
     "output_type": "execute_result"
    }
   ],
   "source": [
    "tools = [internet_search, llm_search]\n",
    "tools"
   ]
  },
  {
   "cell_type": "code",
   "execution_count": 59,
   "metadata": {},
   "outputs": [
    {
     "data": {
      "text/plain": [
       "RunnableBinding(bound=ChatOllama(model='llama3.2:3b', base_url='http://localhost:11434'), kwargs={'tools': [{'type': 'function', 'function': {'name': 'internet_search', 'description': 'Search the web for realtime and latest information.\\nfor examples, news, stock market, weather updates etc.\\n\\nArgs:\\nquery: The search query', 'parameters': {'properties': {'query': {'type': 'string'}}, 'required': ['query'], 'type': 'object'}}}, {'type': 'function', 'function': {'name': 'llm_search', 'description': 'Use the LLM model for general and basic information.', 'parameters': {'properties': {'query': {'type': 'string'}}, 'required': ['query'], 'type': 'object'}}}]}, config={}, config_factories=[])"
      ]
     },
     "execution_count": 59,
     "metadata": {},
     "output_type": "execute_result"
    }
   ],
   "source": [
    "llm_with_tools = llm.bind_tools(tools)\n",
    "llm_with_tools"
   ]
  },
  {
   "cell_type": "code",
   "execution_count": 60,
   "metadata": {},
   "outputs": [],
   "source": [
    "class State(TypedDict):\n",
    "    # {\"messages\": [\"your message\"]}\n",
    "    messages: Annotated[list, add_messages]\n",
    "\n",
    "\n",
    "def chatbot(state: State):\n",
    "    response = llm_with_tools.invoke(state[\"messages\"])\n",
    "    return {\"messages\": [response]}"
   ]
  },
  {
   "cell_type": "code",
   "execution_count": 63,
   "metadata": {},
   "outputs": [
    {
     "data": {
      "image/jpeg": "[encoded data removed]",
      "text/plain": [
       "<IPython.core.display.Image object>"
      ]
     },
     "metadata": {},
     "output_type": "display_data"
    }
   ],
   "source": [
    "from langgraph.checkpoint.memory import MemorySaver\n",
    "\n",
    "memory = MemorySaver()\n",
    "\n",
    "graph_builder = StateGraph(State)\n",
    "\n",
    "graph_builder.add_node(\"chatbot\", chatbot)\n",
    "tool_node = ToolNode(tools=tools)\n",
    "graph_builder.add_node(\"tools\", tool_node)\n",
    "\n",
    "graph_builder.add_conditional_edges(\"chatbot\", tools_condition)\n",
    "\n",
    "graph_builder.add_edge(\"tools\", \"chatbot\")\n",
    "graph_builder.set_entry_point(\"chatbot\")\n",
    "\n",
    "graph = graph_builder.compile(checkpointer=memory)\n",
    "\n",
    "display(Image(graph.get_graph().draw_mermaid_png()))"
   ]
  },
  {
   "cell_type": "code",
   "execution_count": 65,
   "metadata": {},
   "outputs": [
    {
     "data": {
      "text/plain": [
       "{'messages': [HumanMessage(content='Tell me about the earth in 3 points', additional_kwargs={}, response_metadata={}, id='ed205897-dded-4e03-ae02-ec4f15e1cad5'),\n",
       "  AIMessage(content='', additional_kwargs={}, response_metadata={'model': 'llama3.2:3b', 'created_at': '2024-11-25T15:30:34.3014458Z', 'message': {'role': 'assistant', 'content': '', 'tool_calls': [{'function': {'name': 'internet_search', 'arguments': {'query': 'information about earth'}}}]}, 'done_reason': 'stop', 'done': True, 'total_duration': 4629248100, 'load_duration': 2279814900, 'prompt_eval_count': 236, 'prompt_eval_duration': 425404000, 'eval_count': 27, 'eval_duration': 1920989000}, id='run-74519c27-d036-4c2c-b2d8-37f13f508673-0', tool_calls=[{'name': 'internet_search', 'args': {'query': 'information about earth'}, 'id': 'bee89fe5-9611-455c-bd71-59ed534b5d80', 'type': 'tool_call'}], usage_metadata={'input_tokens': 236, 'output_tokens': 27, 'total_tokens': 263}),\n",
       "  ToolMessage(content='[{\"url\": \"https://thefactfile.org/earth-facts/\", \"content\": \"Learn about Earth\\'s formation, location, speed, composition, the existence of life, and more. Discover how Earth is unique among the planets and why it is the only place where life can exist.\"}, {\"url\": \"https://www.natgeokids.com/uk/discover/science/space/facts-about-the-earth/\", \"content\": \"Learn 10 fascinating facts about the Earth, our wonderful world, from its age and size to its atmosphere and seasons. Find out how Earth is different from other planets and why it supports life.\"}, {\"url\": \"https://www.britannica.com/place/Earth\", \"content\": \"Extending from the interior outward, these are the core, the mantle, the crust (including the rocky surface), the hydrosphere (predominantly the oceans, which fill in low places in the crust), the atmosphere (itself divided into spherical zones such as the troposphere, where weather occurs, and the stratosphere, where lies the ozone layer that shields Earth’s surface and its organisms against the Sun’s ultraviolet rays), and the magnetosphere (an enormous region in space where Earth’s magnetic field dominates the behaviour of electrically charged particles coming from the Sun).\\\\n Where is Earth in the Milky Way Galaxy?\\\\nEarth is located in the Orion-Cygnus Arm, one of the four spiral arms of the Milky Way, which lies about two-thirds of the way from the centre of the Galaxy.\\\\n The solid Earth as a field of study is covered in geologic sciences, the methods and instruments employed to investigate Earth’s surface and interior are discussed in Earth exploration, and the history of the study of Earth from antiquity to modern times is surveyed in Earth sciences. Since the Copernican revolution of the 16th century, at which time the Polish astronomer Nicolaus Copernicus proposed a Sun-centred model of the universe (see heliocentric system), enlightened thinkers have regarded Earth as a planet like the others of the solar system. Earth’s name in English, the international language of astronomy, derives from Old English and Germanic words for ground and earth, and it is the only name for a planet of the solar system that does not come from Greco-Roman mythology.\\\\n\"}]', name='internet_search', id='019f8b9c-1f69-47ee-8ce9-cbf7bf77afcd', tool_call_id='bee89fe5-9611-455c-bd71-59ed534b5d80'),\n",
       "  AIMessage(content=\"Here are three key points about the Earth:\\n\\n1. The Earth is unique among planets in supporting life, and its location in the Orion-Cygnus Arm of the Milky Way Galaxy makes it one of the four spiral arms of the galaxy.\\n\\n2. The Earth's solid surface is composed of the crust, mantle, core, hydrosphere, atmosphere, and magnetosphere, each playing a vital role in sustaining life.\\n\\n3. The study of the Earth has evolved significantly since the Copernican revolution, with geologic sciences, Earth exploration, and Earth sciences working together to investigate the planet's surface and interior, and understand its history from antiquity to modern times.\", additional_kwargs={}, response_metadata={'model': 'llama3.2:3b', 'created_at': '2024-11-25T15:30:55.218426Z', 'message': {'role': 'assistant', 'content': \"Here are three key points about the Earth:\\n\\n1. The Earth is unique among planets in supporting life, and its location in the Orion-Cygnus Arm of the Milky Way Galaxy makes it one of the four spiral arms of the galaxy.\\n\\n2. The Earth's solid surface is composed of the crust, mantle, core, hydrosphere, atmosphere, and magnetosphere, each playing a vital role in sustaining life.\\n\\n3. The study of the Earth has evolved significantly since the Copernican revolution, with geologic sciences, Earth exploration, and Earth sciences working together to investigate the planet's surface and interior, and understand its history from antiquity to modern times.\"}, 'done_reason': 'stop', 'done': True, 'total_duration': 15095479000, 'load_duration': 29244100, 'prompt_eval_count': 577, 'prompt_eval_duration': 794441000, 'eval_count': 137, 'eval_duration': 14261363000}, id='run-cca55076-ef85-4c69-bcdf-ceceb51ccbda-0', usage_metadata={'input_tokens': 577, 'output_tokens': 137, 'total_tokens': 714})]}"
      ]
     },
     "execution_count": 65,
     "metadata": {},
     "output_type": "execute_result"
    }
   ],
   "source": [
    "# graph.invoke({\"messages\": [\"Tell me about the earth in 3 points\"]})\n",
    "\n",
    "config = {\"configurable\": {\"thread_id\": 1}}\n",
    "output = graph.invoke({\"messages\": [\"Tell me about the earth in 3 points\"]}, config=config)\n",
    "output"
   ]
  },
  {
   "cell_type": "code",
   "execution_count": 67,
   "metadata": {},
   "outputs": [
    {
     "name": "stdout",
     "output_type": "stream",
     "text": [
      "{'messages': [HumanMessage(content='Tell me about the earth in 3 points', additional_kwargs={}, response_metadata={}, id='ed205897-dded-4e03-ae02-ec4f15e1cad5'), AIMessage(content='', additional_kwargs={}, response_metadata={'model': 'llama3.2:3b', 'created_at': '2024-11-25T15:30:34.3014458Z', 'message': {'role': 'assistant', 'content': '', 'tool_calls': [{'function': {'name': 'internet_search', 'arguments': {'query': 'information about earth'}}}]}, 'done_reason': 'stop', 'done': True, 'total_duration': 4629248100, 'load_duration': 2279814900, 'prompt_eval_count': 236, 'prompt_eval_duration': 425404000, 'eval_count': 27, 'eval_duration': 1920989000}, id='run-74519c27-d036-4c2c-b2d8-37f13f508673-0', tool_calls=[{'name': 'internet_search', 'args': {'query': 'information about earth'}, 'id': 'bee89fe5-9611-455c-bd71-59ed534b5d80', 'type': 'tool_call'}], usage_metadata={'input_tokens': 236, 'output_tokens': 27, 'total_tokens': 263}), ToolMessage(content='[{\"url\": \"https://thefactfile.org/earth-facts/\", \"content\": \"Learn about Earth\\'s formation, location, speed, composition, the existence of life, and more. Discover how Earth is unique among the planets and why it is the only place where life can exist.\"}, {\"url\": \"https://www.natgeokids.com/uk/discover/science/space/facts-about-the-earth/\", \"content\": \"Learn 10 fascinating facts about the Earth, our wonderful world, from its age and size to its atmosphere and seasons. Find out how Earth is different from other planets and why it supports life.\"}, {\"url\": \"https://www.britannica.com/place/Earth\", \"content\": \"Extending from the interior outward, these are the core, the mantle, the crust (including the rocky surface), the hydrosphere (predominantly the oceans, which fill in low places in the crust), the atmosphere (itself divided into spherical zones such as the troposphere, where weather occurs, and the stratosphere, where lies the ozone layer that shields Earth’s surface and its organisms against the Sun’s ultraviolet rays), and the magnetosphere (an enormous region in space where Earth’s magnetic field dominates the behaviour of electrically charged particles coming from the Sun).\\\\n Where is Earth in the Milky Way Galaxy?\\\\nEarth is located in the Orion-Cygnus Arm, one of the four spiral arms of the Milky Way, which lies about two-thirds of the way from the centre of the Galaxy.\\\\n The solid Earth as a field of study is covered in geologic sciences, the methods and instruments employed to investigate Earth’s surface and interior are discussed in Earth exploration, and the history of the study of Earth from antiquity to modern times is surveyed in Earth sciences. Since the Copernican revolution of the 16th century, at which time the Polish astronomer Nicolaus Copernicus proposed a Sun-centred model of the universe (see heliocentric system), enlightened thinkers have regarded Earth as a planet like the others of the solar system. Earth’s name in English, the international language of astronomy, derives from Old English and Germanic words for ground and earth, and it is the only name for a planet of the solar system that does not come from Greco-Roman mythology.\\\\n\"}]', name='internet_search', id='019f8b9c-1f69-47ee-8ce9-cbf7bf77afcd', tool_call_id='bee89fe5-9611-455c-bd71-59ed534b5d80'), AIMessage(content=\"Here are three key points about the Earth:\\n\\n1. The Earth is unique among planets in supporting life, and its location in the Orion-Cygnus Arm of the Milky Way Galaxy makes it one of the four spiral arms of the galaxy.\\n\\n2. The Earth's solid surface is composed of the crust, mantle, core, hydrosphere, atmosphere, and magnetosphere, each playing a vital role in sustaining life.\\n\\n3. The study of the Earth has evolved significantly since the Copernican revolution, with geologic sciences, Earth exploration, and Earth sciences working together to investigate the planet's surface and interior, and understand its history from antiquity to modern times.\", additional_kwargs={}, response_metadata={'model': 'llama3.2:3b', 'created_at': '2024-11-25T15:30:55.218426Z', 'message': {'role': 'assistant', 'content': \"Here are three key points about the Earth:\\n\\n1. The Earth is unique among planets in supporting life, and its location in the Orion-Cygnus Arm of the Milky Way Galaxy makes it one of the four spiral arms of the galaxy.\\n\\n2. The Earth's solid surface is composed of the crust, mantle, core, hydrosphere, atmosphere, and magnetosphere, each playing a vital role in sustaining life.\\n\\n3. The study of the Earth has evolved significantly since the Copernican revolution, with geologic sciences, Earth exploration, and Earth sciences working together to investigate the planet's surface and interior, and understand its history from antiquity to modern times.\"}, 'done_reason': 'stop', 'done': True, 'total_duration': 15095479000, 'load_duration': 29244100, 'prompt_eval_count': 577, 'prompt_eval_duration': 794441000, 'eval_count': 137, 'eval_duration': 14261363000}, id='run-cca55076-ef85-4c69-bcdf-ceceb51ccbda-0', usage_metadata={'input_tokens': 577, 'output_tokens': 137, 'total_tokens': 714}), HumanMessage(content='tell me about the earth in 3 simple points', additional_kwargs={}, response_metadata={}, id='bc7a2150-da75-4dfb-a3a1-b845c8a4a786'), AIMessage(content='', additional_kwargs={}, response_metadata={'model': 'llama3.2:3b', 'created_at': '2024-11-25T15:32:55.5264552Z', 'message': {'role': 'assistant', 'content': '', 'tool_calls': [{'function': {'name': 'llm_search', 'arguments': {'query': 'Earth facts three simple points'}}}]}, 'done_reason': 'stop', 'done': True, 'total_duration': 1868072300, 'load_duration': 22273500, 'prompt_eval_count': 903, 'prompt_eval_duration': 235786000, 'eval_count': 22, 'eval_duration': 1594357000}, id='run-6ac66808-09bf-4277-8dab-c464c8a859c1-0', tool_calls=[{'name': 'llm_search', 'args': {'query': 'Earth facts three simple points'}, 'id': 'cd1ca039-df13-480f-bc50-29486158b58a', 'type': 'tool_call'}], usage_metadata={'input_tokens': 903, 'output_tokens': 22, 'total_tokens': 925}), ToolMessage(content='content=\"Here are three simple and interesting facts about Earth:\\\\n\\\\n1. **Earth\\'s rotation is slowing down**: The Earth takes approximately 24 hours to complete one rotation on its axis, which is the time it takes for our planet to rotate once from west to east. However, due to the tidal interactions with the Moon, the length of a day is slowly increasing by about 1.78 seconds every century.\\\\n\\\\n2. **Earth\\'s surface is covered in water**: About 71% of the Earth\\'s surface is covered in water, including oceans, seas, and other bodies of water. This vast amount of water plays a crucial role in regulating the planet\\'s climate and supporting life on our planet.\\\\n\\\\n3. **Earth\\'s atmosphere protects us from space radiation**: The Earth\\'s atmosphere acts as a shield, protecting living organisms from harmful radiation emitted by the Sun and deep space. Without this protective layer, we would be exposed to significant amounts of cosmic radiation, which could be detrimental to both human health and electronic equipment.\" additional_kwargs={} response_metadata={\\'model\\': \\'llama3.2:3b\\', \\'created_at\\': \\'2024-11-25T15:33:17.7112583Z\\', \\'message\\': {\\'role\\': \\'assistant\\', \\'content\\': \\'\\'}, \\'done_reason\\': \\'stop\\', \\'done\\': True, \\'total_duration\\': 22176418500, \\'load_duration\\': 27087400, \\'prompt_eval_count\\': 30, \\'prompt_eval_duration\\': 111958000, \\'eval_count\\': 203, \\'eval_duration\\': 22035055000} id=\\'run-84275004-e05e-492d-97be-05dd7ba32117-0\\' usage_metadata={\\'input_tokens\\': 30, \\'output_tokens\\': 203, \\'total_tokens\\': 233}', name='llm_search', id='4d579c93-a9b2-40aa-a22e-48b53fc60d04', tool_call_id='cd1ca039-df13-480f-bc50-29486158b58a'), AIMessage(content=\"Here are three simple points about the Earth:\\n\\n1. The Earth's rotation is slowing down due to tidal interactions with the Moon.\\n\\n2. About 71% of the Earth's surface is covered in water, which plays a crucial role in regulating the planet's climate and supporting life.\\n\\n3. The Earth's atmosphere acts as a shield, protecting living organisms from harmful radiation emitted by the Sun and deep space.\", additional_kwargs={}, response_metadata={'model': 'llama3.2:3b', 'created_at': '2024-11-25T15:33:31.5500418Z', 'message': {'role': 'assistant', 'content': \"Here are three simple points about the Earth:\\n\\n1. The Earth's rotation is slowing down due to tidal interactions with the Moon.\\n\\n2. About 71% of the Earth's surface is covered in water, which plays a crucial role in regulating the planet's climate and supporting life.\\n\\n3. The Earth's atmosphere acts as a shield, protecting living organisms from harmful radiation emitted by the Sun and deep space.\"}, 'done_reason': 'stop', 'done': True, 'total_duration': 13828319200, 'load_duration': 25299300, 'prompt_eval_count': 1144, 'prompt_eval_duration': 1442530000, 'eval_count': 83, 'eval_duration': 12331646000}, id='run-09972819-1169-4286-a16d-4d541fb63eda-0', usage_metadata={'input_tokens': 1144, 'output_tokens': 83, 'total_tokens': 1227}), HumanMessage(content='sun', additional_kwargs={}, response_metadata={}, id='667f1a3e-15fa-4d69-bf4d-27d06c4d63bc'), AIMessage(content='', additional_kwargs={}, response_metadata={'model': 'llama3.2:3b', 'created_at': '2024-11-25T15:35:16.7236096Z', 'message': {'role': 'assistant', 'content': '', 'tool_calls': [{'function': {'name': 'llm_search', 'arguments': {'query': 'information about earth'}}}]}, 'done_reason': 'stop', 'done': True, 'total_duration': 1710598000, 'load_duration': 24205200, 'prompt_eval_count': 1407, 'prompt_eval_duration': 282755000, 'eval_count': 20, 'eval_duration': 1368808000}, id='run-1e2e9ce7-dc25-4c8a-baa2-fd6ebbe1f06e-0', tool_calls=[{'name': 'llm_search', 'args': {'query': 'information about earth'}, 'id': '171024ba-56e8-4269-a52d-b40aeb90ac32', 'type': 'tool_call'}], usage_metadata={'input_tokens': 1407, 'output_tokens': 20, 'total_tokens': 1427}), ToolMessage(content='content=\"Here\\'s some interesting information about Earth:\\\\n\\\\n**Geography and Climate**\\\\n\\\\n* Earth is the third planet from the Sun in our solar system.\\\\n* It has a diameter of approximately 12,742 kilometers (7,918 miles) and a circumference of about 40,075 kilometers (24,901 miles).\\\\n* The planet is divided into several continents: Africa, Antarctica, Asia, Australia, Europe, North America, and South America.\\\\n* Earth\\'s surface is about 71% water, with the majority being oceans and seas.\\\\n\\\\n**Atmosphere**\\\\n\\\\n* Earth\\'s atmosphere is composed of 78% nitrogen, 21% oxygen, and small amounts of other gases such as carbon dioxide, argon, and neon.\\\\n* The atmosphere plays a crucial role in regulating temperature, protecting life from radiation, and supporting weather patterns.\\\\n\\\\n**Natural Resources**\\\\n\\\\n* Earth has an abundance of natural resources, including fossil fuels (coal, oil, and gas), minerals (iron, copper, gold, and silver), and renewable energy sources (solar, wind, and hydroelectric power).\\\\n* The planet\\'s water cycle is essential for life, with about 1.3 billion cubic kilometers of water covering its surface.\\\\n\\\\n**Biodiversity**\\\\n\\\\n* Earth is home to a vast array of living organisms, including plants, animals, fungi, and microorganisms.\\\\n* The diversity of life on Earth is estimated to be around 8.7 million species, although many remain undiscovered or unclassified.\\\\n\\\\n**Earth\\'s History**\\\\n\\\\n* The formation of the Earth is believed to have occurred around 4.5 billion years ago from the accretion of dust and gas in a planetary disk.\\\\n* The planet has undergone several major geological events, including the formation of mountains, volcanoes, and oceans.\\\\n* Earth has experienced several mass extinctions throughout its history, with the most recent one occurring about 65 million years ago.\\\\n\\\\n**Earth\\'s Importance to Human Life**\\\\n\\\\n* Earth is the only known habitable planet in our solar system.\\\\n* The planet\\'s atmosphere, oceans, and land provide essential resources for human life, including air, water, food, and shelter.\\\\n* Human activities, such as climate change and pollution, have a significant impact on the health of the planet and its ecosystems.\\\\n\\\\n**Interesting Facts**\\\\n\\\\n* Earth rotates once every 24 hours, which is why we experience day and night cycles.\\\\n* The planet\\'s magnetic field protects us from solar radiation and charged particles from space.\\\\n* Earth\\'s surface is moving at a rate of about 2-3 centimeters (0.8-1.2 inches) per year due to plate tectonics.\\\\n\\\\nI hope you found this information interesting! Is there anything specific you\\'d like to know more about?\" additional_kwargs={} response_metadata={\\'model\\': \\'llama3.2:3b\\', \\'created_at\\': \\'2024-11-25T15:36:00.910023Z\\', \\'message\\': {\\'role\\': \\'assistant\\', \\'content\\': \\'\\'}, \\'done_reason\\': \\'stop\\', \\'done\\': True, \\'total_duration\\': 44179599800, \\'load_duration\\': 24158700, \\'prompt_eval_count\\': 28, \\'prompt_eval_duration\\': 97766000, \\'eval_count\\': 556, \\'eval_duration\\': 44055416000} id=\\'run-f4b2b257-2fa3-4b53-aa92-4ef80604eba7-0\\' usage_metadata={\\'input_tokens\\': 28, \\'output_tokens\\': 556, \\'total_tokens\\': 584}', name='llm_search', id='0da964d7-ef7c-490e-a452-7571d8a7f9f9', tool_call_id='171024ba-56e8-4269-a52d-b40aeb90ac32'), AIMessage(content=\"Here are some interesting facts about the Earth:\\n\\n* The Earth is the third planet from the Sun in our solar system.\\n* It has a diameter of approximately 12,742 kilometers (7,918 miles) and a circumference of about 40,075 kilometers (24,901 miles).\\n* The planet is divided into several continents: Africa, Antarctica, Asia, Australia, Europe, North America, and South America.\\n* Earth's surface is about 71% water, with the majority being oceans and seas.\\n* The atmosphere plays a crucial role in regulating temperature, protecting life from radiation, and supporting weather patterns.\\n* Earth has an abundance of natural resources, including fossil fuels (coal, oil, and gas), minerals (iron, copper, gold, and silver), and renewable energy sources (solar, wind, and hydroelectric power).\\n* The planet's water cycle is essential for life, with about 1.3 billion cubic kilometers of water covering its surface.\\n* Earth is home to a vast array of living organisms, including plants, animals, fungi, and microorganisms.\\n* The diversity of life on Earth is estimated to be around 8.7 million species, although many remain undiscovered or unclassified.\\n* The formation of the Earth is believed to have occurred around 4.5 billion years ago from the accretion of dust and gas in a planetary disk.\\n* The planet has undergone several major geological events, including the formation of mountains, volcanoes, and oceans.\\n* Earth has experienced several mass extinctions throughout its history, with the most recent one occurring about 65 million years ago.\", additional_kwargs={}, response_metadata={'model': 'llama3.2:3b', 'created_at': '2024-11-25T15:36:28.5951362Z', 'message': {'role': 'assistant', 'content': \"Here are some interesting facts about the Earth:\\n\\n* The Earth is the third planet from the Sun in our solar system.\\n* It has a diameter of approximately 12,742 kilometers (7,918 miles) and a circumference of about 40,075 kilometers (24,901 miles).\\n* The planet is divided into several continents: Africa, Antarctica, Asia, Australia, Europe, North America, and South America.\\n* Earth's surface is about 71% water, with the majority being oceans and seas.\\n* The atmosphere plays a crucial role in regulating temperature, protecting life from radiation, and supporting weather patterns.\\n* Earth has an abundance of natural resources, including fossil fuels (coal, oil, and gas), minerals (iron, copper, gold, and silver), and renewable energy sources (solar, wind, and hydroelectric power).\\n* The planet's water cycle is essential for life, with about 1.3 billion cubic kilometers of water covering its surface.\\n* Earth is home to a vast array of living organisms, including plants, animals, fungi, and microorganisms.\\n* The diversity of life on Earth is estimated to be around 8.7 million species, although many remain undiscovered or unclassified.\\n* The formation of the Earth is believed to have occurred around 4.5 billion years ago from the accretion of dust and gas in a planetary disk.\\n* The planet has undergone several major geological events, including the formation of mountains, volcanoes, and oceans.\\n* Earth has experienced several mass extinctions throughout its history, with the most recent one occurring about 65 million years ago.\"}, 'done_reason': 'stop', 'done': True, 'total_duration': 27675072200, 'load_duration': 26867800, 'prompt_eval_count': 2045, 'prompt_eval_duration': 2075662000, 'eval_count': 328, 'eval_duration': 25528886000}, id='run-23581543-c554-4893-a0bb-91dfeadc974c-0', usage_metadata={'input_tokens': 2045, 'output_tokens': 328, 'total_tokens': 2373}), HumanMessage(content='earth', additional_kwargs={}, response_metadata={}, id='5bb2d651-e492-4ed2-9267-a18feec95933'), AIMessage(content='', additional_kwargs={}, response_metadata={'model': 'llama3.2:3b', 'created_at': '2024-11-25T15:42:25.9981869Z', 'message': {'role': 'assistant', 'content': '', 'tool_calls': [{'function': {'name': 'llm_search', 'arguments': {'query': 'information about earth'}}}]}, 'done_reason': 'stop', 'done': True, 'total_duration': 3294750400, 'load_duration': 1658153500, 'prompt_eval_count': 2028, 'prompt_eval_duration': 984910000, 'eval_count': 20, 'eval_duration': 577491000}, id='run-5f175a49-b43f-4e11-b860-c012bbca8ca3-0', tool_calls=[{'name': 'llm_search', 'args': {'query': 'information about earth'}, 'id': 'a5b7b920-714a-4205-b13d-2d001d2aacf1', 'type': 'tool_call'}], usage_metadata={'input_tokens': 2028, 'output_tokens': 20, 'total_tokens': 2048}), ToolMessage(content='content=\"Here are some interesting facts and information about Earth:\\\\n\\\\n**Geography**\\\\n\\\\n1. **Earth\\'s size**: The Earth is the fifth largest planet in our solar system, with a diameter of approximately 12,742 kilometers (7,918 miles).\\\\n2. **Surface area**: The Earth\\'s surface area is about 510 million square kilometers (197 million square miles), which is roughly 29% of the total area of all celestial bodies.\\\\n3. **Mountains and volcanoes**: There are over 1.5 million mountains on Earth, with the highest peak being Mount Everest in the Himalayas at 8,848 meters (29,029 feet).\\\\n4. **Oceans**: The Earth\\'s oceans cover about 71% of its surface area, with a total volume of approximately 361 million cubic kilometers (86 million cubic miles).\\\\n\\\\n**Climate and Weather**\\\\n\\\\n1. **Temperature range**: The average global temperature is around 15°C (59°F), but it varies greatly depending on the season and location.\\\\n2. **Atmospheric pressure**: The atmospheric pressure at sea level is about 1013 millibars, which decreases with altitude.\\\\n3. **Weather patterns**: Weather patterns such as high and low-pressure systems, fronts, and jet streams influence global weather and climate.\\\\n\\\\n**Water**\\\\n\\\\n1. **Freshwater**: Only about 2.5% of the Earth\\'s water is freshwater, which is mostly found in glaciers, rivers, lakes, and underground aquifers.\\\\n2. **Oceans\\' water cycle**: The oceans play a crucial role in the Earth\\'s water cycle, with an estimated 600 million cubic kilometers (144 billion cubic miles) of seawater being recycled every year.\\\\n\\\\n**Life on Earth**\\\\n\\\\n1. **Species diversity**: There are approximately 8.7 million identified species on Earth, but scientists estimate that there may be up to 30 million more that have not yet been discovered.\\\\n2. **Biodiversity hotspots**: Some areas, such as the Amazon rainforest and coral reefs, are home to an exceptionally high number of plant and animal species.\\\\n\\\\n**Natural Resources**\\\\n\\\\n1. **Fossil fuels**: The Earth has vast reserves of fossil fuels, including coal, oil, and natural gas.\\\\n2. **Minerals and metals**: The Earth\\'s crust is rich in minerals and metals such as iron, copper, gold, and silver.\\\\n\\\\n**Human Impact**\\\\n\\\\n1. **Population growth**: The global population is estimated to be around 7.9 billion people, which is expected to increase by 60% by 2050.\\\\n2. **Environmental impact**: Human activities such as deforestation, pollution, climate change, and resource depletion have significant impacts on the Earth\\'s ecosystems.\\\\n\\\\n**Earth\\'s History**\\\\n\\\\n1. **Formation**: The Earth is believed to have formed around 4.5 billion years ago from the gravitational collapse of a giant cloud of gas and dust.\\\\n2. **Geological time scale**: The Earth has gone through multiple phases, including the formation of oceans, continents, and life forms.\\\\n\\\\nThese are just a few examples of the many fascinating facts about our planet.\" additional_kwargs={} response_metadata={\\'model\\': \\'llama3.2:3b\\', \\'created_at\\': \\'2024-11-25T15:42:45.7470844Z\\', \\'message\\': {\\'role\\': \\'assistant\\', \\'content\\': \\'\\'}, \\'done_reason\\': \\'stop\\', \\'done\\': True, \\'total_duration\\': 19741856700, \\'load_duration\\': 22207700, \\'prompt_eval_count\\': 28, \\'prompt_eval_duration\\': 38050000, \\'eval_count\\': 631, \\'eval_duration\\': 19680062000} id=\\'run-157cd6e9-36de-4bed-a98b-a9e4e42452e5-0\\' usage_metadata={\\'input_tokens\\': 28, \\'output_tokens\\': 631, \\'total_tokens\\': 659}', name='llm_search', id='42b831cb-039e-4741-b6bd-9c3232464ea1', tool_call_id='a5b7b920-714a-4205-b13d-2d001d2aacf1'), AIMessage(content=\"Here are some interesting facts and information about Earth:\\n\\n**Geography**\\n\\n1. **Earth's size**: The Earth is the fifth largest planet in our solar system, with a diameter of approximately 12,742 kilometers (7,918 miles).\\n2. **Surface area**: The Earth's surface area is about 510 million square kilometers (197 million square miles), which is roughly 29% of the total area of all celestial bodies.\\n3. **Mountains and volcanoes**: There are over 1.5 million mountains on Earth, with the highest peak being Mount Everest in the Himalayas at 8,848 meters (29,029 feet).\\n4. **Oceans**: The Earth's oceans cover about 71% of its surface area, with a total volume of approximately 361 million cubic kilometers (86 million cubic miles).\\n\\n**Climate and Weather**\\n\\n1. **Temperature range**: The average global temperature is around 15°C (59°F), but it varies greatly depending on the season and location.\\n2. **Atmospheric pressure**: The atmospheric pressure at sea level is about 1013 millibars, which decreases with altitude.\\n3. **Weather patterns**: Weather patterns such as high and low-pressure systems, fronts, and jet streams influence global weather and climate.\\n\\n**Water**\\n\\n1. **Freshwater**: Only about 2.5% of the Earth's water is freshwater, which is mostly found in glaciers, rivers, lakes, and underground aquifers.\\n2. **Oceans' water cycle**: The oceans play a crucial role in the Earth's water cycle, with an estimated 600 million cubic kilometers (144 billion cubic miles) of seawater being recycled every year.\\n\\n**Life on Earth**\\n\\n1. **Species diversity**: There are approximately 8.7 million identified species on Earth, but scientists estimate that there may be up to 30 million more that have not yet been discovered.\\n2. **Biodiversity hotspots**: Some areas, such as the Amazon rainforest and coral reefs, are home to an exceptionally high number of plant and animal species.\\n\\n**Natural Resources**\\n\\n1. **Fossil fuels**: The Earth has vast reserves of fossil fuels, including coal, oil, and natural gas.\\n2. **Minerals and metals**: The Earth's crust is rich in minerals and metals such as iron, copper, gold, and silver.\\n\\n**Human Impact**\\n\\n1. **Population growth**: The global population is estimated to be around 7.9 billion people, which is expected to increase by 60% by 2050.\\n2. **Environmental impact**: Human activities such as deforestation, pollution, climate change, and resource depletion have significant impacts on the Earth's ecosystems.\\n\\n**Earth's History**\\n\\n1. **Formation**: The Earth is believed to have formed around 4.5 billion years ago from the gravitational collapse of a giant cloud of gas and dust.\\n2. **Geological time scale**: The Earth has gone through multiple phases, including the formation of oceans, continents, and life forms.\", additional_kwargs={}, response_metadata={'model': 'llama3.2:3b', 'created_at': '2024-11-25T15:43:06.7207729Z', 'message': {'role': 'assistant', 'content': \"Here are some interesting facts and information about Earth:\\n\\n**Geography**\\n\\n1. **Earth's size**: The Earth is the fifth largest planet in our solar system, with a diameter of approximately 12,742 kilometers (7,918 miles).\\n2. **Surface area**: The Earth's surface area is about 510 million square kilometers (197 million square miles), which is roughly 29% of the total area of all celestial bodies.\\n3. **Mountains and volcanoes**: There are over 1.5 million mountains on Earth, with the highest peak being Mount Everest in the Himalayas at 8,848 meters (29,029 feet).\\n4. **Oceans**: The Earth's oceans cover about 71% of its surface area, with a total volume of approximately 361 million cubic kilometers (86 million cubic miles).\\n\\n**Climate and Weather**\\n\\n1. **Temperature range**: The average global temperature is around 15°C (59°F), but it varies greatly depending on the season and location.\\n2. **Atmospheric pressure**: The atmospheric pressure at sea level is about 1013 millibars, which decreases with altitude.\\n3. **Weather patterns**: Weather patterns such as high and low-pressure systems, fronts, and jet streams influence global weather and climate.\\n\\n**Water**\\n\\n1. **Freshwater**: Only about 2.5% of the Earth's water is freshwater, which is mostly found in glaciers, rivers, lakes, and underground aquifers.\\n2. **Oceans' water cycle**: The oceans play a crucial role in the Earth's water cycle, with an estimated 600 million cubic kilometers (144 billion cubic miles) of seawater being recycled every year.\\n\\n**Life on Earth**\\n\\n1. **Species diversity**: There are approximately 8.7 million identified species on Earth, but scientists estimate that there may be up to 30 million more that have not yet been discovered.\\n2. **Biodiversity hotspots**: Some areas, such as the Amazon rainforest and coral reefs, are home to an exceptionally high number of plant and animal species.\\n\\n**Natural Resources**\\n\\n1. **Fossil fuels**: The Earth has vast reserves of fossil fuels, including coal, oil, and natural gas.\\n2. **Minerals and metals**: The Earth's crust is rich in minerals and metals such as iron, copper, gold, and silver.\\n\\n**Human Impact**\\n\\n1. **Population growth**: The global population is estimated to be around 7.9 billion people, which is expected to increase by 60% by 2050.\\n2. **Environmental impact**: Human activities such as deforestation, pollution, climate change, and resource depletion have significant impacts on the Earth's ecosystems.\\n\\n**Earth's History**\\n\\n1. **Formation**: The Earth is believed to have formed around 4.5 billion years ago from the gravitational collapse of a giant cloud of gas and dust.\\n2. **Geological time scale**: The Earth has gone through multiple phases, including the formation of oceans, continents, and life forms.\"}, 'done_reason': 'stop', 'done': True, 'total_duration': 20963649600, 'load_duration': 21918700, 'prompt_eval_count': 1272, 'prompt_eval_duration': 596375000, 'eval_count': 616, 'eval_duration': 20330889000}, id='run-6660ac6a-f3a7-4347-9d4d-9591a4a67a2b-0', usage_metadata={'input_tokens': 1272, 'output_tokens': 616, 'total_tokens': 1888})]}\n",
      "Exiting...\n"
     ]
    }
   ],
   "source": [
    "config = {\"configurable\": {\"thread_id\": 1}}\n",
    "\n",
    "while True:\n",
    "    user_input = input()\n",
    "    if user_input in [\"exit\", \"quit\", \"q\"]:\n",
    "        print(\"Exiting...\")\n",
    "        break\n",
    "\n",
    "    output = graph.invoke({\"messages\": [user_input]}, config=config)\n",
    "    # output['messages'][-1].pretty_print()\n",
    "    print(output)\n",
    "    "
   ]
  },
  {
   "cell_type": "code",
   "execution_count": null,
   "metadata": {},
   "outputs": [],
   "source": []
  },
  {
   "cell_type": "code",
   "execution_count": null,
   "metadata": {},
   "outputs": [],
   "source": []
  },
  {
   "cell_type": "code",
   "execution_count": null,
   "metadata": {},
   "outputs": [],
   "source": []
  },
  {
   "cell_type": "code",
   "execution_count": null,
   "metadata": {},
   "outputs": [],
   "source": []
  },
  {
   "cell_type": "code",
   "execution_count": null,
   "metadata": {},
   "outputs": [],
   "source": []
  },
  {
   "cell_type": "code",
   "execution_count": null,
   "metadata": {},
   "outputs": [],
   "source": []
  }
 ],
 "metadata": {
  "kernelspec": {
   "display_name": "Python 3 (ipykernel)",
   "language": "python",
   "name": "python3"
  },
  "language_info": {
   "codemirror_mode": {
    "name": "ipython",
    "version": 3
   },
   "file_extension": ".py",
   "mimetype": "text/x-python",
   "name": "python",
   "nbconvert_exporter": "python",
   "pygments_lexer": "ipython3",
   "version": "3.12.7"
  }
 },
 "nbformat": 4,
 "nbformat_minor": 4
}
