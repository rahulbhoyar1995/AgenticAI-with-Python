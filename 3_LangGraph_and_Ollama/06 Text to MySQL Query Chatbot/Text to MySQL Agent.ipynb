{
 "cells": [
  {
   "cell_type": "markdown",
   "metadata": {},
   "source": [
    "# Announcement-on-ML\n",
    "<a href='http://www.kgptalkie.com' target=\"_blank\"> <img src='https://github.com/laxmimerit/Important-Announcement-on-ML/raw/master/kgptalkie_strips.png'/></a>\n",
    "\n",
    "# ML Resources\n",
    "|  ML Course | Description |\n",
    "|:---|:---|\n",
    "| [**Master LangGraph with Ollama - Agentic Chatbot and RAG**](https://www.udemy.com/course/langgraph-with-ollama/?referralCode=B646DCB44A189BEBC20C) | Master LangGraph, Ollama, and Agentic RAG. Ollama, LLAMA, LLAMA 3.2, FAISS, RAG, Deploy RAG, Gen AI, LLM|\n",
    "| [**Master Langchain and Ollama - Chatbot, RAG and Agents**](https://www.udemy.com/course/ollama-and-langchain/?referralCode=7F4C0C7B8CF223BA9327) | Master Langchain v0.3, Private Chatbot, Deploy LLM App.  Ollama, LLAMA, LLAMA 3.2, FAISS, RAG, Deploy RAG, Gen AI, LLM|\n",
    "| [**Fine Tuning LLM with HuggingFace Transformers for NLP**](https://www.udemy.com/course/fine-tuning-llm-with-hugging-face-transformers/?referralCode=6DEB3BE17C2644422D8E) | Learn how to fine tune LLM with custom dataset. You will learn basics of transformers then fine tune LLM|\n",
    "| [**Data Visualization in Python Masterclass™: Beginners to Pro**](https://bit.ly/udemy95off_kgptalkie) |  Learn to build Machine Learning and Deep Learning models using Python and its libraries like Scikit-Learn, Keras, and TensorFlow. |\n",
    "| [**Python for Machine Learning: A Step-by-Step Guide**](https://bit.ly/ml-ds-project) | Learn to build Machine Learning and Deep Learning models using Python and its libraries like Scikit-Learn, Keras, and TensorFlow. |\n",
    "| [**Deep Learning for Beginners with Python**](https://bit.ly/dl-with-python) | Neural Networks, TensorFlow, ANN, CNN, RNN, LSTM, Transfer Learning and Much More. |\n",
    "| [**Python for Linear Regression in Machine Learning**](https://bit.ly/regression-python) | Learn to build Linear Regression models using Python and its libraries like Scikit-Learn. |\n",
    "| [**Introduction to Spacy 3 for Natural Language Processing**](https://bit.ly/spacy-intro) | Learn to build Natural Language Processing models using Python and its libraries like Spacy. |\n",
    "| [**Advanced Machine Learning and Deep Learning Projects**](https://bit.ly/kgptalkie_ml_projects) | Learn to build Advanced Machine Learning and Deep Learning models using Python and transformer models like BERT, GPT-2, and XLNet. |\n",
    "| [**Natural Language Processing in Python for Beginners**](https://bit.ly/intro_nlp) | Learn to build Natural Language Processing Projects using Spacy, NLTK, and Gensim, and transformer models like BERT, GPT-2, and XLNet. |\n",
    "| [**Deployment of Machine Learning Models in Production in Python**](https://bit.ly/bert_nlp) |  Learn to deploy Machine Learning and Deep Learning models using Python and its libraries like Flask, Streamlit, and NGINX. |\n",
    "| [**R 4.0 Programming for Data Science - Beginners to Pro**](https://bit.ly/r4-ml) | Learn to build Machine Learning and Deep Learning models using R and its libraries like caret, tidyverse, and keras. |\n"
   ]
  },
  {
   "cell_type": "markdown",
   "metadata": {},
   "source": [
    "## Text to MySQL Agent"
   ]
  },
  {
   "cell_type": "markdown",
   "metadata": {},
   "source": [
    "- This simple agent responds to a text message with a MySQL query execution result.\n",
    "- The agent is built using LangGraph\n",
    "- We will start with simple linear flow and then add more complex flows\n",
    "- For this example, We will use `Chinook` database which is sample database available for `sqlite`\n",
    "- You can tryout this for any database `sqlite` or `mysql` or `postgresql` by changing the connection string"
   ]
  },
  {
   "cell_type": "code",
   "execution_count": 1,
   "metadata": {},
   "outputs": [
    {
     "data": {
      "text/plain": [
       "True"
      ]
     },
     "execution_count": 1,
     "metadata": {},
     "output_type": "execute_result"
    }
   ],
   "source": [
    "from dotenv import load_dotenv\n",
    "import os\n",
    "\n",
    "load_dotenv('../.env')"
   ]
  },
  {
   "cell_type": "markdown",
   "metadata": {},
   "source": [
    "## Download the Chinook database"
   ]
  },
  {
   "cell_type": "code",
   "execution_count": 4,
   "metadata": {},
   "outputs": [
    {
     "name": "stdout",
     "output_type": "stream",
     "text": [
      "File downloaded successfully\n"
     ]
    }
   ],
   "source": [
    "import requests\n",
    "\n",
    "url = \"https://github.com/laxmimerit/All-CSV-ML-Data-Files-Download/raw/refs/heads/master/db_samples/Chinook.db\"\n",
    "\n",
    "response = requests.get(url)\n",
    "\n",
    "if response.status_code == 200:\n",
    "    with open(\"Chinook.db\", \"wb\") as file:\n",
    "        file.write(response.content)\n",
    "\n",
    "    print(\"File downloaded successfully\")\n",
    "\n",
    "else:\n",
    "    print(\"Failed to download the file\")\n",
    "    print(response.status_code)"
   ]
  },
  {
   "cell_type": "markdown",
   "metadata": {},
   "source": [
    "## LLM Connection and MySQL Tools"
   ]
  },
  {
   "cell_type": "code",
   "execution_count": 5,
   "metadata": {},
   "outputs": [],
   "source": [
    "from langchain_community.utilities import SQLDatabase\n",
    "\n",
    "db = SQLDatabase.from_uri(\"sqlite:///Chinook.db\")"
   ]
  },
  {
   "cell_type": "code",
   "execution_count": 9,
   "metadata": {},
   "outputs": [
    {
     "name": "stdout",
     "output_type": "stream",
     "text": [
      "['Album', 'Artist', 'Customer', 'Employee', 'Genre', 'Invoice', 'InvoiceLine', 'MediaType', 'Playlist', 'PlaylistTrack', 'Track']\n"
     ]
    }
   ],
   "source": [
    "db.dialect\n",
    "\n",
    "print(db.get_usable_table_names())"
   ]
  },
  {
   "cell_type": "code",
   "execution_count": 14,
   "metadata": {},
   "outputs": [
    {
     "data": {
      "text/plain": [
       "\"[(1, 'AC/DC'), (2, 'Accept')]\""
      ]
     },
     "execution_count": 14,
     "metadata": {},
     "output_type": "execute_result"
    }
   ],
   "source": [
    "db.run(\"SELECT * FROM album LIMIT 2\")\n",
    "\n",
    "db.run(\"SELECT * FROM artist LIMIT 2\")"
   ]
  },
  {
   "cell_type": "code",
   "execution_count": 17,
   "metadata": {},
   "outputs": [
    {
     "data": {
      "text/plain": [
       "\"[(1, 2, '2009-01-01 00:00:00', 'Theodor-Heuss-Straße 34', 'Stuttgart', None, 'Germany', '70174', 1.98, 'Leonie', 'Köhler', None, 'Theodor-Heuss-Straße 34', 'Stuttgart', None, 'Germany', '70174', '+49 0711 2842222', None, 'leonekohler@surfeu.de', 5)]\""
      ]
     },
     "execution_count": 17,
     "metadata": {},
     "output_type": "execute_result"
    }
   ],
   "source": [
    "db.run(\"select * from Invoice as inv join Customer as c on inv.CustomerId=c.CustomerId LIMIT 1\")"
   ]
  },
  {
   "cell_type": "markdown",
   "metadata": {},
   "source": [
    "### LLM Connection"
   ]
  },
  {
   "cell_type": "code",
   "execution_count": 22,
   "metadata": {},
   "outputs": [
    {
     "data": {
      "text/plain": [
       "AIMessage(content='Hello! How can I assist you today?', additional_kwargs={}, response_metadata={'model': 'qwen2.5', 'created_at': '2024-12-01T07:37:27.2500459Z', 'message': {'role': 'assistant', 'content': ''}, 'done_reason': 'stop', 'done': True, 'total_duration': 12729079900, 'load_duration': 8805006000, 'prompt_eval_count': 30, 'prompt_eval_duration': 1127700000, 'eval_count': 10, 'eval_duration': 2790442000}, id='run-a6b60b61-e86e-453c-9d03-4da0e61fa1ac-0', usage_metadata={'input_tokens': 30, 'output_tokens': 10, 'total_tokens': 40})"
      ]
     },
     "execution_count": 22,
     "metadata": {},
     "output_type": "execute_result"
    }
   ],
   "source": [
    "from langchain_ollama import ChatOllama\n",
    "\n",
    "\n",
    "model = \"qwen2.5\" # llama3.2:3b\n",
    "llm = ChatOllama(model=model, base_url = \"http://localhost:11434\")\n",
    "\n",
    "llm.invoke(\"Hello\")"
   ]
  },
  {
   "cell_type": "markdown",
   "metadata": {},
   "source": [
    "## Application State or Graph State"
   ]
  },
  {
   "cell_type": "code",
   "execution_count": 23,
   "metadata": {},
   "outputs": [],
   "source": [
    "from typing import  TypedDict, Annotated\n",
    "\n",
    "class State(TypedDict):\n",
    "    question: str # user question\n",
    "    query: str # mysql query prepared by llm\n",
    "    result: str # mysql result\n",
    "    answer: str # llm answer"
   ]
  },
  {
   "cell_type": "code",
   "execution_count": 24,
   "metadata": {},
   "outputs": [],
   "source": [
    "from langchain import hub\n",
    "\n",
    "query_prompt_template = hub.pull(\"langchain-ai/sql-query-system-prompt\")\n"
   ]
  },
  {
   "cell_type": "code",
   "execution_count": 28,
   "metadata": {},
   "outputs": [
    {
     "name": "stdout",
     "output_type": "stream",
     "text": [
      "================================\u001b[1m System Message \u001b[0m================================\n",
      "\n",
      "Given an input question, create a syntactically correct \u001b[33;1m\u001b[1;3m{dialect}\u001b[0m query to run to help find the answer. Unless the user specifies in his question a specific number of examples they wish to obtain, always limit your query to at most \u001b[33;1m\u001b[1;3m{top_k}\u001b[0m results. You can order the results by a relevant column to return the most interesting examples in the database.\n",
      "\n",
      "Never query for all the columns from a specific table, only ask for a the few relevant columns given the question.\n",
      "\n",
      "Pay attention to use only the column names that you can see in the schema description. Be careful to not query for columns that do not exist. Also, pay attention to which column is in which table.\n",
      "\n",
      "Only use the following tables:\n",
      "\u001b[33;1m\u001b[1;3m{table_info}\u001b[0m\n",
      "\n",
      "Question: \u001b[33;1m\u001b[1;3m{input}\u001b[0m\n"
     ]
    }
   ],
   "source": [
    "query_prompt_template.messages[0].pretty_print()"
   ]
  },
  {
   "cell_type": "markdown",
   "metadata": {},
   "source": [
    "## Write, Execute and Generate MySQL Response"
   ]
  },
  {
   "cell_type": "markdown",
   "metadata": {},
   "source": [
    "### `Write` Node for MySQL Query"
   ]
  },
  {
   "cell_type": "code",
   "execution_count": 32,
   "metadata": {},
   "outputs": [
    {
     "data": {
      "text/plain": [
       "{'query': typing.Annotated[str, Ellipsis, 'Syntactically correct and valid SQL query']}"
      ]
     },
     "execution_count": 32,
     "metadata": {},
     "output_type": "execute_result"
    }
   ],
   "source": [
    "from typing import Annotated\n",
    "\n",
    "class QueryOutput(TypedDict):\n",
    "    \"\"\"Generated SQL query\"\"\"\n",
    "\n",
    "    query: Annotated[str, ..., \"Syntactically correct and valid SQL query\"]\n",
    "\n",
    "QueryOutput({\"query\": \"SELECT * FROM album LIMIT 2\"})\n",
    "QueryOutput.__annotations__"
   ]
  },
  {
   "cell_type": "code",
   "execution_count": 38,
   "metadata": {},
   "outputs": [],
   "source": [
    "# print(db.get_table_info())"
   ]
  },
  {
   "cell_type": "code",
   "execution_count": 40,
   "metadata": {},
   "outputs": [
    {
     "data": {
      "text/plain": [
       "RunnableBinding(bound=ChatOllama(model='qwen2.5', base_url='http://localhost:11434'), kwargs={'tools': [{'type': 'function', 'function': {'name': 'QueryOutput', 'description': 'Generated SQL query', 'parameters': {'type': 'object', 'properties': {'query': {'description': 'Syntactically correct and valid SQL query', 'type': 'string'}}, 'required': ['query']}}}], 'tool_choice': 'any'}, config={}, config_factories=[])\n",
       "| JsonOutputKeyToolsParser(first_tool_only=True, key_name='QueryOutput')"
      ]
     },
     "execution_count": 40,
     "metadata": {},
     "output_type": "execute_result"
    }
   ],
   "source": [
    "llm.with_structured_output(QueryOutput)"
   ]
  },
  {
   "cell_type": "code",
   "execution_count": 41,
   "metadata": {},
   "outputs": [
    {
     "data": {
      "text/plain": [
       "{'query': 'SELECT AlbumId, Title FROM Album'}"
      ]
     },
     "execution_count": 41,
     "metadata": {},
     "output_type": "execute_result"
    }
   ],
   "source": [
    "def write_query(state:State):\n",
    "    \"\"\"Generate MySQL query to fetch information\"\"\"\n",
    "    prompt = query_prompt_template.invoke({\n",
    "        \"dialect\": db.dialect,\n",
    "        \"top_k\": 5,\n",
    "        \"table_info\": db.get_table_info(),\n",
    "        \"input\": state[\"question\"]\n",
    "    })\n",
    "\n",
    "    structured_llm = llm.with_structured_output(QueryOutput)\n",
    "\n",
    "    result = structured_llm.invoke(prompt)\n",
    "\n",
    "    return {\"query\": result[\"query\"]}\n",
    "\n",
    "write_query({\"question\": \"List all the albums\"})"
   ]
  },
  {
   "cell_type": "code",
   "execution_count": 42,
   "metadata": {},
   "outputs": [
    {
     "data": {
      "text/plain": [
       "{'query': 'SELECT COUNT(*) AS EmployeeCount FROM Employee'}"
      ]
     },
     "execution_count": 42,
     "metadata": {},
     "output_type": "execute_result"
    }
   ],
   "source": [
    "query_prompt_template\n",
    "\n",
    "write_query({\"question\": \"How many employees are there?\"})"
   ]
  },
  {
   "cell_type": "markdown",
   "metadata": {},
   "source": [
    "### Execute Query"
   ]
  },
  {
   "cell_type": "code",
   "execution_count": 44,
   "metadata": {},
   "outputs": [
    {
     "data": {
      "text/plain": [
       "'[(1, \\'For Those About To Rock We Salute You\\'), (2, \\'Balls to the Wall\\'), (3, \\'Restless and Wild\\'), (4, \\'Let There Be Rock\\'), (5, \\'Big Ones\\'), (6, \\'Jagged Little Pill\\'), (7, \\'Facelift\\'), (8, \\'Warner 25 Anos\\'), (9, \\'Plays Metallica By Four Cellos\\'), (10, \\'Audioslave\\'), (11, \\'Out Of Exile\\'), (12, \\'BackBeat Soundtrack\\'), (13, \\'The Best Of Billy Cobham\\'), (14, \\'Alcohol Fueled Brewtality Live! [Disc 1]\\'), (15, \\'Alcohol Fueled Brewtality Live! [Disc 2]\\'), (16, \\'Black Sabbath\\'), (17, \\'Black Sabbath Vol. 4 (Remaster)\\'), (18, \\'Body Count\\'), (19, \\'Chemical Wedding\\'), (20, \\'The Best Of Buddy Guy - The Millenium Collection\\'), (21, \\'Prenda Minha\\'), (22, \\'Sozinho Remix Ao Vivo\\'), (23, \\'Minha Historia\\'), (24, \\'Afrociberdelia\\'), (25, \\'Da Lama Ao Caos\\'), (26, \\'Acústico MTV [Live]\\'), (27, \\'Cidade Negra - Hits\\'), (28, \\'Na Pista\\'), (29, \\'Axé Bahia 2001\\'), (30, \\'BBC Sessions [Disc 1] [Live]\\'), (31, \\'Bongo Fury\\'), (32, \\'Carnaval 2001\\'), (33, \\'Chill: Brazil (Disc 1)\\'), (34, \\'Chill: Brazil (Disc 2)\\'), (35, \\'Garage Inc. (Disc 1)\\'), (36, \\'Greatest Hits II\\'), (37, \\'Greatest Kiss\\'), (38, \\'Heart of the Night\\'), (39, \\'International Superhits\\'), (40, \\'Into The Light\\'), (41, \\'Meus Momentos\\'), (42, \\'Minha História\\'), (43, \\'MK III The Final Concerts [Disc 1]\\'), (44, \\'Physical Graffiti [Disc 1]\\'), (45, \\'Sambas De Enredo 2001\\'), (46, \\'Supernatural\\'), (47, \\'The Best of Ed Motta\\'), (48, \\'The Essential Miles Davis [Disc 1]\\'), (49, \\'The Essential Miles Davis [Disc 2]\\'), (50, \\'The Final Concerts (Disc 2)\\'), (51, \"Up An\\' Atom\"), (52, \\'Vinícius De Moraes - Sem Limite\\'), (53, \\'Vozes do MPB\\'), (54, \\'Chronicle, Vol. 1\\'), (55, \\'Chronicle, Vol. 2\\'), (56, \\'Cássia Eller - Coleção Sem Limite [Disc 2]\\'), (57, \\'Cássia Eller - Sem Limite [Disc 1]\\'), (58, \\'Come Taste The Band\\'), (59, \\'Deep Purple In Rock\\'), (60, \\'Fireball\\'), (61, \"Knocking at Your Back Door: The Best Of Deep Purple in the 80\\'s\"), (62, \\'Machine Head\\'), (63, \\'Purpendicular\\'), (64, \\'Slaves And Masters\\'), (65, \\'Stormbringer\\'), (66, \\'The Battle Rages On\\'), (67, \"Vault: Def Leppard\\'s Greatest Hits\"), (68, \\'Outbreak\\'), (69, \\'Djavan Ao Vivo - Vol. 02\\'), (70, \\'Djavan Ao Vivo - Vol. 1\\'), (71, \\'Elis Regina-Minha História\\'), (72, \\'The Cream Of Clapton\\'), (73, \\'Unplugged\\'), (74, \\'Album Of The Year\\'), (75, \\'Angel Dust\\'), (76, \\'King For A Day Fool For A Lifetime\\'), (77, \\'The Real Thing\\'), (78, \\'Deixa Entrar\\'), (79, \\'In Your Honor [Disc 1]\\'), (80, \\'In Your Honor [Disc 2]\\'), (81, \\'One By One\\'), (82, \\'The Colour And The Shape\\'), (83, \\'My Way: The Best Of Frank Sinatra [Disc 1]\\'), (84, \\'Roda De Funk\\'), (85, \\'As Canções de Eu Tu Eles\\'), (86, \\'Quanta Gente Veio Ver (Live)\\'), (87, \\'Quanta Gente Veio ver--Bônus De Carnaval\\'), (88, \\'Faceless\\'), (89, \\'American Idiot\\'), (90, \\'Appetite for Destruction\\'), (91, \\'Use Your Illusion I\\'), (92, \\'Use Your Illusion II\\'), (93, \\'Blue Moods\\'), (94, \\'A Matter of Life and Death\\'), (95, \\'A Real Dead One\\'), (96, \\'A Real Live One\\'), (97, \\'Brave New World\\'), (98, \\'Dance Of Death\\'), (99, \\'Fear Of The Dark\\'), (100, \\'Iron Maiden\\'), (101, \\'Killers\\'), (102, \\'Live After Death\\'), (103, \\'Live At Donington 1992 (Disc 1)\\'), (104, \\'Live At Donington 1992 (Disc 2)\\'), (105, \\'No Prayer For The Dying\\'), (106, \\'Piece Of Mind\\'), (107, \\'Powerslave\\'), (108, \\'Rock In Rio [CD1]\\'), (109, \\'Rock In Rio [CD2]\\'), (110, \\'Seventh Son of a Seventh Son\\'), (111, \\'Somewhere in Time\\'), (112, \\'The Number of The Beast\\'), (113, \\'The X Factor\\'), (114, \\'Virtual XI\\'), (115, \\'Sex Machine\\'), (116, \\'Emergency On Planet Earth\\'), (117, \\'Synkronized\\'), (118, \\'The Return Of The Space Cowboy\\'), (119, \\'Get Born\\'), (120, \\'Are You Experienced?\\'), (121, \\'Surfing with the Alien (Remastered)\\'), (122, \\'Jorge Ben Jor 25 Anos\\'), (123, \\'Jota Quest-1995\\'), (124, \\'Cafezinho\\'), (125, \\'Living After Midnight\\'), (126, \\'Unplugged [Live]\\'), (127, \\'BBC Sessions [Disc 2] [Live]\\'), (128, \\'Coda\\'), (129, \\'Houses Of The Holy\\'), (130, \\'In Through The Out Door\\'), (131, \\'IV\\'), (132, \\'Led Zeppelin I\\'), (133, \\'Led Zeppelin II\\'), (134, \\'Led Zeppelin III\\'), (135, \\'Physical Graffiti [Disc 2]\\'), (136, \\'Presence\\'), (137, \\'The Song Remains The Same (Disc 1)\\'), (138, \\'The Song Remains The Same (Disc 2)\\'), (139, \\'A TempestadeTempestade Ou O Livro Dos Dias\\'), (140, \\'Mais Do Mesmo\\'), (141, \\'Greatest Hits\\'), (142, \\'Lulu Santos - RCA 100 Anos De Música - Álbum 01\\'), (143, \\'Lulu Santos - RCA 100 Anos De Música - Álbum 02\\'), (144, \\'Misplaced Childhood\\'), (145, \\'Barulhinho Bom\\'), (146, \\'Seek And Shall Find: More Of The Best (1963-1981)\\'), (147, \\'The Best Of Men At Work\\'), (148, \\'Black Album\\'), (149, \\'Garage Inc. (Disc 2)\\'), (150, \"Kill \\'Em All\"), (151, \\'Load\\'), (152, \\'Master Of Puppets\\'), (153, \\'ReLoad\\'), (154, \\'Ride The Lightning\\'), (155, \\'St. Anger\\'), (156, \\'...And Justice For All\\'), (157, \\'Miles Ahead\\'), (158, \\'Milton Nascimento Ao Vivo\\'), (159, \\'Minas\\'), (160, \\'Ace Of Spades\\'), (161, \\'Demorou...\\'), (162, \\'Motley Crue Greatest Hits\\'), (163, \\'From The Muddy Banks Of The Wishkah [Live]\\'), (164, \\'Nevermind\\'), (165, \\'Compositores\\'), (166, \\'Olodum\\'), (167, \\'Acústico MTV\\'), (168, \\'Arquivo II\\'), (169, \\'Arquivo Os Paralamas Do Sucesso\\'), (170, \\'Bark at the Moon (Remastered)\\'), (171, \\'Blizzard of Ozz\\'), (172, \\'Diary of a Madman (Remastered)\\'), (173, \\'No More Tears (Remastered)\\'), (174, \\'Tribute\\'), (175, \\'Walking Into Clarksdale\\'), (176, \\'Original Soundtracks 1\\'), (177, \\'The Beast Live\\'), (178, \\'Live On Two Legs [Live]\\'), (179, \\'Pearl Jam\\'), (180, \\'Riot Act\\'), (181, \\'Ten\\'), (182, \\'Vs.\\'), (183, \\'Dark Side Of The Moon\\'), (184, \\'Os Cães Ladram Mas A Caravana Não Pára\\'), (185, \\'Greatest Hits I\\'), (186, \\'News Of The World\\'), (187, \\'Out Of Time\\'), (188, \\'Green\\'), (189, \\'New Adventures In Hi-Fi\\'), (190, \\'The Best Of R.E.M.: The IRS Years\\'), (191, \\'Cesta Básica\\'), (192, \\'Raul Seixas\\'), (193, \\'Blood Sugar Sex Magik\\'), (194, \\'By The Way\\'), (195, \\'Californication\\'), (196, \\'Retrospective I (1974-1980)\\'), (197, \\'Santana - As Years Go By\\'), (198, \\'Santana Live\\'), (199, \\'Maquinarama\\'), (200, \\'O Samba Poconé\\'), (201, \\'Judas 0: B-Sides and Rarities\\'), (202, \\'Rotten Apples: Greatest Hits\\'), (203, \\'A-Sides\\'), (204, \\'Morning Dance\\'), (205, \\'In Step\\'), (206, \\'Core\\'), (207, \\'Mezmerize\\'), (208, \\'[1997] Black Light Syndrome\\'), (209, \\'Live [Disc 1]\\'), (210, \\'Live [Disc 2]\\'), (211, \\'The Singles\\'), (212, \\'Beyond Good And Evil\\'), (213, \\'Pure Cult: The Best Of The Cult (For Rockers, Ravers, Lovers & Sinners) [UK]\\'), (214, \\'The Doors\\'), (215, \\'The Police Greatest Hits\\'), (216, \\'Hot Rocks, 1964-1971 (Disc 1)\\'), (217, \\'No Security\\'), (218, \\'Voodoo Lounge\\'), (219, \\'Tangents\\'), (220, \\'Transmission\\'), (221, \\'My Generation - The Very Best Of The Who\\'), (222, \\'Serie Sem Limite (Disc 1)\\'), (223, \\'Serie Sem Limite (Disc 2)\\'), (224, \\'Acústico\\'), (225, \\'Volume Dois\\'), (226, \\'Battlestar Galactica: The Story So Far\\'), (227, \\'Battlestar Galactica, Season 3\\'), (228, \\'Heroes, Season 1\\'), (229, \\'Lost, Season 3\\'), (230, \\'Lost, Season 1\\'), (231, \\'Lost, Season 2\\'), (232, \\'Achtung Baby\\'), (233, \"All That You Can\\'t Leave Behind\"), (234, \\'B-Sides 1980-1990\\'), (235, \\'How To Dismantle An Atomic Bomb\\'), (236, \\'Pop\\'), (237, \\'Rattle And Hum\\'), (238, \\'The Best Of 1980-1990\\'), (239, \\'War\\'), (240, \\'Zooropa\\'), (241, \\'UB40 The Best Of - Volume Two [UK]\\'), (242, \\'Diver Down\\'), (243, \\'The Best Of Van Halen, Vol. I\\'), (244, \\'Van Halen\\'), (245, \\'Van Halen III\\'), (246, \\'Contraband\\'), (247, \\'Vinicius De Moraes\\'), (248, \\'Ao Vivo [IMPORT]\\'), (249, \\'The Office, Season 1\\'), (250, \\'The Office, Season 2\\'), (251, \\'The Office, Season 3\\'), (252, \\'Un-Led-Ed\\'), (253, \\'Battlestar Galactica (Classic), Season 1\\'), (254, \\'Aquaman\\'), (255, \\'Instant Karma: The Amnesty International Campaign to Save Darfur\\'), (256, \\'Speak of the Devil\\'), (257, \\'20th Century Masters - The Millennium Collection: The Best of Scorpions\\'), (258, \\'House of Pain\\'), (259, \\'Radio Brasil (O Som da Jovem Vanguarda) - Seleccao de Henrique Amaro\\'), (260, \\'Cake: B-Sides and Rarities\\'), (261, \\'LOST, Season 4\\'), (262, \\'Quiet Songs\\'), (263, \\'Muso Ko\\'), (264, \\'Realize\\'), (265, \\'Every Kind of Light\\'), (266, \\'Duos II\\'), (267, \\'Worlds\\'), (268, \\'The Best of Beethoven\\'), (269, \\'Temple of the Dog\\'), (270, \\'Carry On\\'), (271, \\'Revelations\\'), (272, \\'Adorate Deum: Gregorian Chant from the Proper of the Mass\\'), (273, \\'Allegri: Miserere\\'), (274, \\'Pachelbel: Canon & Gigue\\'), (275, \\'Vivaldi: The Four Seasons\\'), (276, \\'Bach: Violin Concertos\\'), (277, \\'Bach: Goldberg Variations\\'), (278, \\'Bach: The Cello Suites\\'), (279, \\'Handel: The Messiah (Highlights)\\'), (280, \\'The World of Classical Favourites\\'), (281, \\'Sir Neville Marriner: A Celebration\\'), (282, \\'Mozart: Wind Concertos\\'), (283, \\'Haydn: Symphonies 99 - 104\\'), (284, \\'Beethoven: Symhonies Nos. 5 & 6\\'), (285, \\'A Soprano Inspired\\'), (286, \\'Great Opera Choruses\\'), (287, \\'Wagner: Favourite Overtures\\'), (288, \\'Fauré: Requiem, Ravel: Pavane & Others\\'), (289, \\'Tchaikovsky: The Nutcracker\\'), (290, \\'The Last Night of the Proms\\'), (291, \\'Puccini: Madama Butterfly - Highlights\\'), (292, \\'Holst: The Planets, Op. 32 & Vaughan Williams: Fantasies\\'), (293, \"Pavarotti\\'s Opera Made Easy\"), (294, \"Great Performances - Barber\\'s Adagio and Other Romantic Favorites for Strings\"), (295, \\'Carmina Burana\\'), (296, \\'A Copland Celebration, Vol. I\\'), (297, \\'Bach: Toccata & Fugue in D Minor\\'), (298, \\'Prokofiev: Symphony No.1\\'), (299, \\'Scheherazade\\'), (300, \\'Bach: The Brandenburg Concertos\\'), (301, \\'Chopin: Piano Concertos Nos. 1 & 2\\'), (302, \\'Mascagni: Cavalleria Rusticana\\'), (303, \\'Sibelius: Finlandia\\'), (304, \\'Beethoven Piano Sonatas: Moonlight & Pastorale\\'), (305, \\'Great Recordings of the Century - Mahler: Das Lied von der Erde\\'), (306, \\'Elgar: Cello Concerto & Vaughan Williams: Fantasias\\'), (307, \\'Adams, John: The Chairman Dances\\'), (308, \"Tchaikovsky: 1812 Festival Overture, Op.49, Capriccio Italien & Beethoven: Wellington\\'s Victory\"), (309, \\'Palestrina: Missa Papae Marcelli & Allegri: Miserere\\'), (310, \\'Prokofiev: Romeo & Juliet\\'), (311, \\'Strauss: Waltzes\\'), (312, \\'Berlioz: Symphonie Fantastique\\'), (313, \\'Bizet: Carmen Highlights\\'), (314, \\'English Renaissance\\'), (315, \\'Handel: Music for the Royal Fireworks (Original Version 1749)\\'), (316, \\'Grieg: Peer Gynt Suites & Sibelius: Pelléas et Mélisande\\'), (317, \\'Mozart Gala: Famous Arias\\'), (318, \\'SCRIABIN: Vers la flamme\\'), (319, \\'Armada: Music from the Courts of England and Spain\\'), (320, \\'Mozart: Symphonies Nos. 40 & 41\\'), (321, \\'Back to Black\\'), (322, \\'Frank\\'), (323, \\'Carried to Dust (Bonus Track Version)\\'), (324, \"Beethoven: Symphony No. 6 \\'Pastoral\\' Etc.\"), (325, \\'Bartok: Violin & Viola Concertos\\'), (326, \"Mendelssohn: A Midsummer Night\\'s Dream\"), (327, \\'Bach: Orchestral Suites Nos. 1 - 4\\'), (328, \\'Charpentier: Divertissements, Airs & Concerts\\'), (329, \\'South American Getaway\\'), (330, \\'Górecki: Symphony No. 3\\'), (331, \\'Purcell: The Fairy Queen\\'), (332, \\'The Ultimate Relexation Album\\'), (333, \\'Purcell: Music for the Queen Mary\\'), (334, \\'Weill: The Seven Deadly Sins\\'), (335, \\'J.S. Bach: Chaconne, Suite in E Minor, Partita in E Major & Prelude, Fugue and Allegro\\'), (336, \\'Prokofiev: Symphony No.5 & Stravinksy: Le Sacre Du Printemps\\'), (337, \\'Szymanowski: Piano Works, Vol. 1\\'), (338, \\'Nielsen: The Six Symphonies\\'), (339, \"Great Recordings of the Century: Paganini\\'s 24 Caprices\"), (340, \"Liszt - 12 Études D\\'Execution Transcendante\"), (341, \\'Great Recordings of the Century - Shubert: Schwanengesang, 4 Lieder\\'), (342, \\'Locatelli: Concertos for Violin, Strings and Continuo, Vol. 3\\'), (343, \\'Respighi:Pines of Rome\\'), (344, \"Schubert: The Late String Quartets & String Quintet (3 CD\\'s)\"), (345, \"Monteverdi: L\\'Orfeo\"), (346, \\'Mozart: Chamber Music\\'), (347, \\'Koyaanisqatsi (Soundtrack from the Motion Picture)\\')]'"
      ]
     },
     "execution_count": 44,
     "metadata": {},
     "output_type": "execute_result"
    }
   ],
   "source": [
    "db.run('SELECT COUNT(*) AS EmployeeCount FROM Employee')\n",
    "db.run('SELECT AlbumId, Title FROM Album')"
   ]
  },
  {
   "cell_type": "code",
   "execution_count": 46,
   "metadata": {},
   "outputs": [
    {
     "data": {
      "text/plain": [
       "{'result': \"[(1, 'For Those About To Rock We Salute You', 1), (2, 'Balls to the Wall', 2)]\"}"
      ]
     },
     "execution_count": 46,
     "metadata": {},
     "output_type": "execute_result"
    }
   ],
   "source": [
    "from langchain_community.tools.sql_database.tool import QuerySQLDataBaseTool\n",
    "\n",
    "def execute_query(state:State):\n",
    "    \"\"\"Execute SQL query and return the result\"\"\"\n",
    "    query = state[\"query\"]\n",
    "    execute_query_tool = QuerySQLDataBaseTool(db=db)\n",
    "\n",
    "    return {'result': execute_query_tool.invoke({\"query\": query})}\n",
    "\n",
    "execute_query({\"query\": \"SELECT * FROM album LIMIT 2\"})"
   ]
  },
  {
   "cell_type": "markdown",
   "metadata": {},
   "source": [
    "### Generate Answer"
   ]
  },
  {
   "cell_type": "code",
   "execution_count": null,
   "metadata": {},
   "outputs": [],
   "source": [
    "\n",
    "# question, query, result, answer\n",
    "def generate_answer(state:State):\n",
    "    \"\"\"Generate answer using retrieved information as the context\"\"\" \n",
    "\n",
    "    prompt = (\n",
    "        \"Given the following user question, corresponding SQL query, \"\n",
    "        \"and SQL result, answer the user question.\\n\\n\"\n",
    "        f'Question: {state[\"question\"]}\\n'\n",
    "        f'SQL Query: {state[\"query\"]}\\n'\n",
    "        f'SQL Result: {state[\"result\"]}'\n",
    "    )\n",
    "\n",
    "    response = llm.invoke(prompt)\n",
    "\n",
    "    return {\"answer\": response.content}\n",
    "\n"
   ]
  },
  {
   "cell_type": "code",
   "execution_count": 48,
   "metadata": {},
   "outputs": [
    {
     "data": {
      "text/plain": [
       "{'query': 'SELECT COUNT(*) AS NumberOfEmployees FROM Employee;'}"
      ]
     },
     "execution_count": 48,
     "metadata": {},
     "output_type": "execute_result"
    }
   ],
   "source": [
    "question = \"how many employees are there?\"\n",
    "query = write_query({\"question\": question})\n",
    "query"
   ]
  },
  {
   "cell_type": "code",
   "execution_count": 49,
   "metadata": {},
   "outputs": [
    {
     "data": {
      "text/plain": [
       "{'result': '[(8,)]'}"
      ]
     },
     "execution_count": 49,
     "metadata": {},
     "output_type": "execute_result"
    }
   ],
   "source": [
    "result = execute_query(query)\n",
    "result"
   ]
  },
  {
   "cell_type": "code",
   "execution_count": 50,
   "metadata": {},
   "outputs": [
    {
     "data": {
      "text/plain": [
       "{'question': 'how many employees are there?',\n",
       " 'query': 'SELECT COUNT(*) AS NumberOfEmployees FROM Employee;',\n",
       " 'result': '[(8,)]'}"
      ]
     },
     "execution_count": 50,
     "metadata": {},
     "output_type": "execute_result"
    }
   ],
   "source": [
    "state = {\"question\": question, **query, **result}\n",
    "state"
   ]
  },
  {
   "cell_type": "code",
   "execution_count": 51,
   "metadata": {},
   "outputs": [
    {
     "data": {
      "text/plain": [
       "{'answer': 'Based on the provided SQL query and result, there are 8 employees in total. The `COUNT(*)` function returned the number of rows in the `Employee` table, which corresponds to the number of employees.'}"
      ]
     },
     "execution_count": 51,
     "metadata": {},
     "output_type": "execute_result"
    }
   ],
   "source": [
    "generate_answer(state)"
   ]
  },
  {
   "cell_type": "markdown",
   "metadata": {},
   "source": [
    "## Building Graph"
   ]
  },
  {
   "cell_type": "code",
   "execution_count": 53,
   "metadata": {},
   "outputs": [],
   "source": [
    "from langgraph.graph import  START, StateGraph\n",
    "from IPython.display import display, Image"
   ]
  },
  {
   "cell_type": "code",
   "execution_count": 56,
   "metadata": {},
   "outputs": [],
   "source": [
    "graph_builder = StateGraph(State)\n",
    "\n",
    "graph_builder.add_node(\"write_query\", write_query)\n",
    "graph_builder.add_node(\"execute_query\", execute_query)\n",
    "graph_builder.add_node(\"generate_answer\", generate_answer)\n",
    "\n",
    "graph_builder.add_edge(START, \"write_query\")\n",
    "graph_builder.add_edge(\"write_query\", \"execute_query\")\n",
    "graph_builder.add_edge(\"execute_query\", \"generate_answer\")\n",
    "\n",
    "graph = graph_builder.compile()"
   ]
  },
  {
   "cell_type": "code",
   "execution_count": 57,
   "metadata": {},
   "outputs": [
    {
     "data": {
      "image/jpeg": "[encoded data removed]",
      "text/plain": [
       "<IPython.core.display.Image object>"
      ]
     },
     "metadata": {},
     "output_type": "display_data"
    }
   ],
   "source": [
    "display(Image(graph.get_graph().draw_mermaid_png()))"
   ]
  },
  {
   "cell_type": "code",
   "execution_count": 58,
   "metadata": {},
   "outputs": [
    {
     "name": "stdout",
     "output_type": "stream",
     "text": [
      "{'write_query': {'query': 'SELECT AlbumId, Title FROM Album'}}\n",
      "{'execute_query': {'result': '[(1, \\'For Those About To Rock We Salute You\\'), (2, \\'Balls to the Wall\\'), (3, \\'Restless and Wild\\'), (4, \\'Let There Be Rock\\'), (5, \\'Big Ones\\'), (6, \\'Jagged Little Pill\\'), (7, \\'Facelift\\'), (8, \\'Warner 25 Anos\\'), (9, \\'Plays Metallica By Four Cellos\\'), (10, \\'Audioslave\\'), (11, \\'Out Of Exile\\'), (12, \\'BackBeat Soundtrack\\'), (13, \\'The Best Of Billy Cobham\\'), (14, \\'Alcohol Fueled Brewtality Live! [Disc 1]\\'), (15, \\'Alcohol Fueled Brewtality Live! [Disc 2]\\'), (16, \\'Black Sabbath\\'), (17, \\'Black Sabbath Vol. 4 (Remaster)\\'), (18, \\'Body Count\\'), (19, \\'Chemical Wedding\\'), (20, \\'The Best Of Buddy Guy - The Millenium Collection\\'), (21, \\'Prenda Minha\\'), (22, \\'Sozinho Remix Ao Vivo\\'), (23, \\'Minha Historia\\'), (24, \\'Afrociberdelia\\'), (25, \\'Da Lama Ao Caos\\'), (26, \\'Acústico MTV [Live]\\'), (27, \\'Cidade Negra - Hits\\'), (28, \\'Na Pista\\'), (29, \\'Axé Bahia 2001\\'), (30, \\'BBC Sessions [Disc 1] [Live]\\'), (31, \\'Bongo Fury\\'), (32, \\'Carnaval 2001\\'), (33, \\'Chill: Brazil (Disc 1)\\'), (34, \\'Chill: Brazil (Disc 2)\\'), (35, \\'Garage Inc. (Disc 1)\\'), (36, \\'Greatest Hits II\\'), (37, \\'Greatest Kiss\\'), (38, \\'Heart of the Night\\'), (39, \\'International Superhits\\'), (40, \\'Into The Light\\'), (41, \\'Meus Momentos\\'), (42, \\'Minha História\\'), (43, \\'MK III The Final Concerts [Disc 1]\\'), (44, \\'Physical Graffiti [Disc 1]\\'), (45, \\'Sambas De Enredo 2001\\'), (46, \\'Supernatural\\'), (47, \\'The Best of Ed Motta\\'), (48, \\'The Essential Miles Davis [Disc 1]\\'), (49, \\'The Essential Miles Davis [Disc 2]\\'), (50, \\'The Final Concerts (Disc 2)\\'), (51, \"Up An\\' Atom\"), (52, \\'Vinícius De Moraes - Sem Limite\\'), (53, \\'Vozes do MPB\\'), (54, \\'Chronicle, Vol. 1\\'), (55, \\'Chronicle, Vol. 2\\'), (56, \\'Cássia Eller - Coleção Sem Limite [Disc 2]\\'), (57, \\'Cássia Eller - Sem Limite [Disc 1]\\'), (58, \\'Come Taste The Band\\'), (59, \\'Deep Purple In Rock\\'), (60, \\'Fireball\\'), (61, \"Knocking at Your Back Door: The Best Of Deep Purple in the 80\\'s\"), (62, \\'Machine Head\\'), (63, \\'Purpendicular\\'), (64, \\'Slaves And Masters\\'), (65, \\'Stormbringer\\'), (66, \\'The Battle Rages On\\'), (67, \"Vault: Def Leppard\\'s Greatest Hits\"), (68, \\'Outbreak\\'), (69, \\'Djavan Ao Vivo - Vol. 02\\'), (70, \\'Djavan Ao Vivo - Vol. 1\\'), (71, \\'Elis Regina-Minha História\\'), (72, \\'The Cream Of Clapton\\'), (73, \\'Unplugged\\'), (74, \\'Album Of The Year\\'), (75, \\'Angel Dust\\'), (76, \\'King For A Day Fool For A Lifetime\\'), (77, \\'The Real Thing\\'), (78, \\'Deixa Entrar\\'), (79, \\'In Your Honor [Disc 1]\\'), (80, \\'In Your Honor [Disc 2]\\'), (81, \\'One By One\\'), (82, \\'The Colour And The Shape\\'), (83, \\'My Way: The Best Of Frank Sinatra [Disc 1]\\'), (84, \\'Roda De Funk\\'), (85, \\'As Canções de Eu Tu Eles\\'), (86, \\'Quanta Gente Veio Ver (Live)\\'), (87, \\'Quanta Gente Veio ver--Bônus De Carnaval\\'), (88, \\'Faceless\\'), (89, \\'American Idiot\\'), (90, \\'Appetite for Destruction\\'), (91, \\'Use Your Illusion I\\'), (92, \\'Use Your Illusion II\\'), (93, \\'Blue Moods\\'), (94, \\'A Matter of Life and Death\\'), (95, \\'A Real Dead One\\'), (96, \\'A Real Live One\\'), (97, \\'Brave New World\\'), (98, \\'Dance Of Death\\'), (99, \\'Fear Of The Dark\\'), (100, \\'Iron Maiden\\'), (101, \\'Killers\\'), (102, \\'Live After Death\\'), (103, \\'Live At Donington 1992 (Disc 1)\\'), (104, \\'Live At Donington 1992 (Disc 2)\\'), (105, \\'No Prayer For The Dying\\'), (106, \\'Piece Of Mind\\'), (107, \\'Powerslave\\'), (108, \\'Rock In Rio [CD1]\\'), (109, \\'Rock In Rio [CD2]\\'), (110, \\'Seventh Son of a Seventh Son\\'), (111, \\'Somewhere in Time\\'), (112, \\'The Number of The Beast\\'), (113, \\'The X Factor\\'), (114, \\'Virtual XI\\'), (115, \\'Sex Machine\\'), (116, \\'Emergency On Planet Earth\\'), (117, \\'Synkronized\\'), (118, \\'The Return Of The Space Cowboy\\'), (119, \\'Get Born\\'), (120, \\'Are You Experienced?\\'), (121, \\'Surfing with the Alien (Remastered)\\'), (122, \\'Jorge Ben Jor 25 Anos\\'), (123, \\'Jota Quest-1995\\'), (124, \\'Cafezinho\\'), (125, \\'Living After Midnight\\'), (126, \\'Unplugged [Live]\\'), (127, \\'BBC Sessions [Disc 2] [Live]\\'), (128, \\'Coda\\'), (129, \\'Houses Of The Holy\\'), (130, \\'In Through The Out Door\\'), (131, \\'IV\\'), (132, \\'Led Zeppelin I\\'), (133, \\'Led Zeppelin II\\'), (134, \\'Led Zeppelin III\\'), (135, \\'Physical Graffiti [Disc 2]\\'), (136, \\'Presence\\'), (137, \\'The Song Remains The Same (Disc 1)\\'), (138, \\'The Song Remains The Same (Disc 2)\\'), (139, \\'A TempestadeTempestade Ou O Livro Dos Dias\\'), (140, \\'Mais Do Mesmo\\'), (141, \\'Greatest Hits\\'), (142, \\'Lulu Santos - RCA 100 Anos De Música - Álbum 01\\'), (143, \\'Lulu Santos - RCA 100 Anos De Música - Álbum 02\\'), (144, \\'Misplaced Childhood\\'), (145, \\'Barulhinho Bom\\'), (146, \\'Seek And Shall Find: More Of The Best (1963-1981)\\'), (147, \\'The Best Of Men At Work\\'), (148, \\'Black Album\\'), (149, \\'Garage Inc. (Disc 2)\\'), (150, \"Kill \\'Em All\"), (151, \\'Load\\'), (152, \\'Master Of Puppets\\'), (153, \\'ReLoad\\'), (154, \\'Ride The Lightning\\'), (155, \\'St. Anger\\'), (156, \\'...And Justice For All\\'), (157, \\'Miles Ahead\\'), (158, \\'Milton Nascimento Ao Vivo\\'), (159, \\'Minas\\'), (160, \\'Ace Of Spades\\'), (161, \\'Demorou...\\'), (162, \\'Motley Crue Greatest Hits\\'), (163, \\'From The Muddy Banks Of The Wishkah [Live]\\'), (164, \\'Nevermind\\'), (165, \\'Compositores\\'), (166, \\'Olodum\\'), (167, \\'Acústico MTV\\'), (168, \\'Arquivo II\\'), (169, \\'Arquivo Os Paralamas Do Sucesso\\'), (170, \\'Bark at the Moon (Remastered)\\'), (171, \\'Blizzard of Ozz\\'), (172, \\'Diary of a Madman (Remastered)\\'), (173, \\'No More Tears (Remastered)\\'), (174, \\'Tribute\\'), (175, \\'Walking Into Clarksdale\\'), (176, \\'Original Soundtracks 1\\'), (177, \\'The Beast Live\\'), (178, \\'Live On Two Legs [Live]\\'), (179, \\'Pearl Jam\\'), (180, \\'Riot Act\\'), (181, \\'Ten\\'), (182, \\'Vs.\\'), (183, \\'Dark Side Of The Moon\\'), (184, \\'Os Cães Ladram Mas A Caravana Não Pára\\'), (185, \\'Greatest Hits I\\'), (186, \\'News Of The World\\'), (187, \\'Out Of Time\\'), (188, \\'Green\\'), (189, \\'New Adventures In Hi-Fi\\'), (190, \\'The Best Of R.E.M.: The IRS Years\\'), (191, \\'Cesta Básica\\'), (192, \\'Raul Seixas\\'), (193, \\'Blood Sugar Sex Magik\\'), (194, \\'By The Way\\'), (195, \\'Californication\\'), (196, \\'Retrospective I (1974-1980)\\'), (197, \\'Santana - As Years Go By\\'), (198, \\'Santana Live\\'), (199, \\'Maquinarama\\'), (200, \\'O Samba Poconé\\'), (201, \\'Judas 0: B-Sides and Rarities\\'), (202, \\'Rotten Apples: Greatest Hits\\'), (203, \\'A-Sides\\'), (204, \\'Morning Dance\\'), (205, \\'In Step\\'), (206, \\'Core\\'), (207, \\'Mezmerize\\'), (208, \\'[1997] Black Light Syndrome\\'), (209, \\'Live [Disc 1]\\'), (210, \\'Live [Disc 2]\\'), (211, \\'The Singles\\'), (212, \\'Beyond Good And Evil\\'), (213, \\'Pure Cult: The Best Of The Cult (For Rockers, Ravers, Lovers & Sinners) [UK]\\'), (214, \\'The Doors\\'), (215, \\'The Police Greatest Hits\\'), (216, \\'Hot Rocks, 1964-1971 (Disc 1)\\'), (217, \\'No Security\\'), (218, \\'Voodoo Lounge\\'), (219, \\'Tangents\\'), (220, \\'Transmission\\'), (221, \\'My Generation - The Very Best Of The Who\\'), (222, \\'Serie Sem Limite (Disc 1)\\'), (223, \\'Serie Sem Limite (Disc 2)\\'), (224, \\'Acústico\\'), (225, \\'Volume Dois\\'), (226, \\'Battlestar Galactica: The Story So Far\\'), (227, \\'Battlestar Galactica, Season 3\\'), (228, \\'Heroes, Season 1\\'), (229, \\'Lost, Season 3\\'), (230, \\'Lost, Season 1\\'), (231, \\'Lost, Season 2\\'), (232, \\'Achtung Baby\\'), (233, \"All That You Can\\'t Leave Behind\"), (234, \\'B-Sides 1980-1990\\'), (235, \\'How To Dismantle An Atomic Bomb\\'), (236, \\'Pop\\'), (237, \\'Rattle And Hum\\'), (238, \\'The Best Of 1980-1990\\'), (239, \\'War\\'), (240, \\'Zooropa\\'), (241, \\'UB40 The Best Of - Volume Two [UK]\\'), (242, \\'Diver Down\\'), (243, \\'The Best Of Van Halen, Vol. I\\'), (244, \\'Van Halen\\'), (245, \\'Van Halen III\\'), (246, \\'Contraband\\'), (247, \\'Vinicius De Moraes\\'), (248, \\'Ao Vivo [IMPORT]\\'), (249, \\'The Office, Season 1\\'), (250, \\'The Office, Season 2\\'), (251, \\'The Office, Season 3\\'), (252, \\'Un-Led-Ed\\'), (253, \\'Battlestar Galactica (Classic), Season 1\\'), (254, \\'Aquaman\\'), (255, \\'Instant Karma: The Amnesty International Campaign to Save Darfur\\'), (256, \\'Speak of the Devil\\'), (257, \\'20th Century Masters - The Millennium Collection: The Best of Scorpions\\'), (258, \\'House of Pain\\'), (259, \\'Radio Brasil (O Som da Jovem Vanguarda) - Seleccao de Henrique Amaro\\'), (260, \\'Cake: B-Sides and Rarities\\'), (261, \\'LOST, Season 4\\'), (262, \\'Quiet Songs\\'), (263, \\'Muso Ko\\'), (264, \\'Realize\\'), (265, \\'Every Kind of Light\\'), (266, \\'Duos II\\'), (267, \\'Worlds\\'), (268, \\'The Best of Beethoven\\'), (269, \\'Temple of the Dog\\'), (270, \\'Carry On\\'), (271, \\'Revelations\\'), (272, \\'Adorate Deum: Gregorian Chant from the Proper of the Mass\\'), (273, \\'Allegri: Miserere\\'), (274, \\'Pachelbel: Canon & Gigue\\'), (275, \\'Vivaldi: The Four Seasons\\'), (276, \\'Bach: Violin Concertos\\'), (277, \\'Bach: Goldberg Variations\\'), (278, \\'Bach: The Cello Suites\\'), (279, \\'Handel: The Messiah (Highlights)\\'), (280, \\'The World of Classical Favourites\\'), (281, \\'Sir Neville Marriner: A Celebration\\'), (282, \\'Mozart: Wind Concertos\\'), (283, \\'Haydn: Symphonies 99 - 104\\'), (284, \\'Beethoven: Symhonies Nos. 5 & 6\\'), (285, \\'A Soprano Inspired\\'), (286, \\'Great Opera Choruses\\'), (287, \\'Wagner: Favourite Overtures\\'), (288, \\'Fauré: Requiem, Ravel: Pavane & Others\\'), (289, \\'Tchaikovsky: The Nutcracker\\'), (290, \\'The Last Night of the Proms\\'), (291, \\'Puccini: Madama Butterfly - Highlights\\'), (292, \\'Holst: The Planets, Op. 32 & Vaughan Williams: Fantasies\\'), (293, \"Pavarotti\\'s Opera Made Easy\"), (294, \"Great Performances - Barber\\'s Adagio and Other Romantic Favorites for Strings\"), (295, \\'Carmina Burana\\'), (296, \\'A Copland Celebration, Vol. I\\'), (297, \\'Bach: Toccata & Fugue in D Minor\\'), (298, \\'Prokofiev: Symphony No.1\\'), (299, \\'Scheherazade\\'), (300, \\'Bach: The Brandenburg Concertos\\'), (301, \\'Chopin: Piano Concertos Nos. 1 & 2\\'), (302, \\'Mascagni: Cavalleria Rusticana\\'), (303, \\'Sibelius: Finlandia\\'), (304, \\'Beethoven Piano Sonatas: Moonlight & Pastorale\\'), (305, \\'Great Recordings of the Century - Mahler: Das Lied von der Erde\\'), (306, \\'Elgar: Cello Concerto & Vaughan Williams: Fantasias\\'), (307, \\'Adams, John: The Chairman Dances\\'), (308, \"Tchaikovsky: 1812 Festival Overture, Op.49, Capriccio Italien & Beethoven: Wellington\\'s Victory\"), (309, \\'Palestrina: Missa Papae Marcelli & Allegri: Miserere\\'), (310, \\'Prokofiev: Romeo & Juliet\\'), (311, \\'Strauss: Waltzes\\'), (312, \\'Berlioz: Symphonie Fantastique\\'), (313, \\'Bizet: Carmen Highlights\\'), (314, \\'English Renaissance\\'), (315, \\'Handel: Music for the Royal Fireworks (Original Version 1749)\\'), (316, \\'Grieg: Peer Gynt Suites & Sibelius: Pelléas et Mélisande\\'), (317, \\'Mozart Gala: Famous Arias\\'), (318, \\'SCRIABIN: Vers la flamme\\'), (319, \\'Armada: Music from the Courts of England and Spain\\'), (320, \\'Mozart: Symphonies Nos. 40 & 41\\'), (321, \\'Back to Black\\'), (322, \\'Frank\\'), (323, \\'Carried to Dust (Bonus Track Version)\\'), (324, \"Beethoven: Symphony No. 6 \\'Pastoral\\' Etc.\"), (325, \\'Bartok: Violin & Viola Concertos\\'), (326, \"Mendelssohn: A Midsummer Night\\'s Dream\"), (327, \\'Bach: Orchestral Suites Nos. 1 - 4\\'), (328, \\'Charpentier: Divertissements, Airs & Concerts\\'), (329, \\'South American Getaway\\'), (330, \\'Górecki: Symphony No. 3\\'), (331, \\'Purcell: The Fairy Queen\\'), (332, \\'The Ultimate Relexation Album\\'), (333, \\'Purcell: Music for the Queen Mary\\'), (334, \\'Weill: The Seven Deadly Sins\\'), (335, \\'J.S. Bach: Chaconne, Suite in E Minor, Partita in E Major & Prelude, Fugue and Allegro\\'), (336, \\'Prokofiev: Symphony No.5 & Stravinksy: Le Sacre Du Printemps\\'), (337, \\'Szymanowski: Piano Works, Vol. 1\\'), (338, \\'Nielsen: The Six Symphonies\\'), (339, \"Great Recordings of the Century: Paganini\\'s 24 Caprices\"), (340, \"Liszt - 12 Études D\\'Execution Transcendante\"), (341, \\'Great Recordings of the Century - Shubert: Schwanengesang, 4 Lieder\\'), (342, \\'Locatelli: Concertos for Violin, Strings and Continuo, Vol. 3\\'), (343, \\'Respighi:Pines of Rome\\'), (344, \"Schubert: The Late String Quartets & String Quintet (3 CD\\'s)\"), (345, \"Monteverdi: L\\'Orfeo\"), (346, \\'Mozart: Chamber Music\\'), (347, \\'Koyaanisqatsi (Soundtrack from the Motion Picture)\\')]'}}\n",
      "{'generate_answer': {'answer': 'Here are some key observations and insights about this list of music titles:\\n\\n1. The entries span a wide range of musical styles, periods, and composers.\\n2. There\\'s a good mix of well-known classical pieces and less familiar works.\\n3. Many entries include famous compositions by major composers like Bach, Beethoven, Mozart, and Stravinsky.\\n4. Some categories are represented multiple times (e.g., various symphonies).\\n5. A few selections are unique, such as \"The Ultimate Relexation Album\" and \"Back to Black\".\\n6. The list includes both instrumental and vocal works, with a heavy emphasis on orchestral music.\\n\\nThis list appears to be from a music compilation or album collection, possibly for educational purposes, marketing, or cataloging. It could be used in various contexts such as:\\n\\n- Creating an online store\\'s product range\\n- Developing a music education curriculum\\n- Compiling a library of classical music recordings\\n- Curating a streaming playlist\\n\\nThe titles seem to follow a consistent naming convention, often including the composer\\'s name and the work\\'s title. Some entries also mention specific performances or conductors (e.g., \"Pavarotti\\'s Opera Made Easy\").'}}\n"
     ]
    }
   ],
   "source": [
    "query = {'question': 'List all the albums'}\n",
    "for step in graph.stream(query, stream_mode=\"updates\"):\n",
    "    print(step)"
   ]
  },
  {
   "cell_type": "code",
   "execution_count": 60,
   "metadata": {},
   "outputs": [],
   "source": [
    "# query = {'question': 'Hello'}\n",
    "# for step in graph.stream(query, stream_mode=\"updates\"):\n",
    "#     print(step)"
   ]
  },
  {
   "cell_type": "code",
   "execution_count": null,
   "metadata": {},
   "outputs": [],
   "source": []
  },
  {
   "cell_type": "code",
   "execution_count": null,
   "metadata": {},
   "outputs": [],
   "source": []
  },
  {
   "cell_type": "markdown",
   "metadata": {},
   "source": [
    "## LangGraph AGENTS"
   ]
  },
  {
   "cell_type": "markdown",
   "metadata": {},
   "source": [
    "- They can query the database as many times as needed to answer the user question.\n",
    "- They can recover from errors by running a generated query, catching the traceback and regenerating it correctly.\n",
    "- They can answer questions based on the databases' schema as well as on the databases' content (like describing a specific table)."
   ]
  },
  {
   "cell_type": "code",
   "execution_count": 61,
   "metadata": {},
   "outputs": [],
   "source": [
    "from langchain import hub\n",
    "\n",
    "prompt = hub.pull(\"langchain-ai/sql-agent-system-prompt\")"
   ]
  },
  {
   "cell_type": "code",
   "execution_count": 63,
   "metadata": {},
   "outputs": [
    {
     "name": "stdout",
     "output_type": "stream",
     "text": [
      "================================\u001b[1m System Message \u001b[0m================================\n",
      "\n",
      "You are an agent designed to interact with a SQL database.\n",
      "Given an input question, create a syntactically correct \u001b[33;1m\u001b[1;3m{dialect}\u001b[0m query to run, then look at the results of the query and return the answer.\n",
      "Unless the user specifies a specific number of examples they wish to obtain, always limit your query to at most \u001b[33;1m\u001b[1;3m{top_k}\u001b[0m results.\n",
      "You can order the results by a relevant column to return the most interesting examples in the database.\n",
      "Never query for all the columns from a specific table, only ask for the relevant columns given the question.\n",
      "You have access to tools for interacting with the database.\n",
      "Only use the below tools. Only use the information returned by the below tools to construct your final answer.\n",
      "You MUST double check your query before executing it. If you get an error while executing a query, rewrite the query and try again.\n",
      "\n",
      "DO NOT make any DML statements (INSERT, UPDATE, DELETE, DROP etc.) to the database.\n",
      "\n",
      "To start you should ALWAYS look at the tables in the database to see what you can query.\n",
      "Do NOT skip this step.\n",
      "Then you should query the schema of the most relevant tables.\n"
     ]
    }
   ],
   "source": [
    "prompt.messages[0].pretty_print()"
   ]
  },
  {
   "cell_type": "code",
   "execution_count": 93,
   "metadata": {},
   "outputs": [],
   "source": [
    "system_prompt = prompt.invoke({'dialect': db.dialect, 'top_k': 5})\n",
    "system_prompt = prompt.format(dialect = db.dialect, top_k = 5)"
   ]
  },
  {
   "cell_type": "code",
   "execution_count": 94,
   "metadata": {},
   "outputs": [
    {
     "data": {
      "text/plain": [
       "'System: You are an agent designed to interact with a SQL database.\\nGiven an input question, create a syntactically correct sqlite query to run, then look at the results of the query and return the answer.\\nUnless the user specifies a specific number of examples they wish to obtain, always limit your query to at most 5 results.\\nYou can order the results by a relevant column to return the most interesting examples in the database.\\nNever query for all the columns from a specific table, only ask for the relevant columns given the question.\\nYou have access to tools for interacting with the database.\\nOnly use the below tools. Only use the information returned by the below tools to construct your final answer.\\nYou MUST double check your query before executing it. If you get an error while executing a query, rewrite the query and try again.\\n\\nDO NOT make any DML statements (INSERT, UPDATE, DELETE, DROP etc.) to the database.\\n\\nTo start you should ALWAYS look at the tables in the database to see what you can query.\\nDo NOT skip this step.\\nThen you should query the schema of the most relevant tables.'"
      ]
     },
     "execution_count": 94,
     "metadata": {},
     "output_type": "execute_result"
    }
   ],
   "source": [
    "system_prompt"
   ]
  },
  {
   "cell_type": "code",
   "execution_count": 92,
   "metadata": {},
   "outputs": [
    {
     "data": {
      "text/plain": [
       "ChatPromptTemplate(input_variables=['dialect', 'top_k'], input_types={}, partial_variables={}, metadata={'lc_hub_owner': 'langchain-ai', 'lc_hub_repo': 'sql-agent-system-prompt', 'lc_hub_commit_hash': '31156d5fe3945188ee172151b086712d22b8c70f8f1c0505f5457594424ed352'}, messages=[SystemMessagePromptTemplate(prompt=PromptTemplate(input_variables=['dialect', 'top_k'], input_types={}, partial_variables={}, template='You are an agent designed to interact with a SQL database.\\nGiven an input question, create a syntactically correct {dialect} query to run, then look at the results of the query and return the answer.\\nUnless the user specifies a specific number of examples they wish to obtain, always limit your query to at most {top_k} results.\\nYou can order the results by a relevant column to return the most interesting examples in the database.\\nNever query for all the columns from a specific table, only ask for the relevant columns given the question.\\nYou have access to tools for interacting with the database.\\nOnly use the below tools. Only use the information returned by the below tools to construct your final answer.\\nYou MUST double check your query before executing it. If you get an error while executing a query, rewrite the query and try again.\\n\\nDO NOT make any DML statements (INSERT, UPDATE, DELETE, DROP etc.) to the database.\\n\\nTo start you should ALWAYS look at the tables in the database to see what you can query.\\nDo NOT skip this step.\\nThen you should query the schema of the most relevant tables.'), additional_kwargs={})])"
      ]
     },
     "execution_count": 92,
     "metadata": {},
     "output_type": "execute_result"
    }
   ],
   "source": [
    "prompt"
   ]
  },
  {
   "cell_type": "code",
   "execution_count": 67,
   "metadata": {},
   "outputs": [],
   "source": [
    "from langchain_community.agent_toolkits import SQLDatabaseToolkit\n",
    "\n",
    "toolkit = SQLDatabaseToolkit(db=db, llm=llm)"
   ]
  },
  {
   "cell_type": "code",
   "execution_count": 69,
   "metadata": {},
   "outputs": [
    {
     "data": {
      "text/plain": [
       "{'table_info': '\\nCREATE TABLE \"Album\" (\\n\\t\"AlbumId\" INTEGER NOT NULL, \\n\\t\"Title\" NVARCHAR(160) NOT NULL, \\n\\t\"ArtistId\" INTEGER NOT NULL, \\n\\tPRIMARY KEY (\"AlbumId\"), \\n\\tFOREIGN KEY(\"ArtistId\") REFERENCES \"Artist\" (\"ArtistId\")\\n)\\n\\n/*\\n3 rows from Album table:\\nAlbumId\\tTitle\\tArtistId\\n1\\tFor Those About To Rock We Salute You\\t1\\n2\\tBalls to the Wall\\t2\\n3\\tRestless and Wild\\t2\\n*/\\n\\n\\nCREATE TABLE \"Artist\" (\\n\\t\"ArtistId\" INTEGER NOT NULL, \\n\\t\"Name\" NVARCHAR(120), \\n\\tPRIMARY KEY (\"ArtistId\")\\n)\\n\\n/*\\n3 rows from Artist table:\\nArtistId\\tName\\n1\\tAC/DC\\n2\\tAccept\\n3\\tAerosmith\\n*/\\n\\n\\nCREATE TABLE \"Customer\" (\\n\\t\"CustomerId\" INTEGER NOT NULL, \\n\\t\"FirstName\" NVARCHAR(40) NOT NULL, \\n\\t\"LastName\" NVARCHAR(20) NOT NULL, \\n\\t\"Company\" NVARCHAR(80), \\n\\t\"Address\" NVARCHAR(70), \\n\\t\"City\" NVARCHAR(40), \\n\\t\"State\" NVARCHAR(40), \\n\\t\"Country\" NVARCHAR(40), \\n\\t\"PostalCode\" NVARCHAR(10), \\n\\t\"Phone\" NVARCHAR(24), \\n\\t\"Fax\" NVARCHAR(24), \\n\\t\"Email\" NVARCHAR(60) NOT NULL, \\n\\t\"SupportRepId\" INTEGER, \\n\\tPRIMARY KEY (\"CustomerId\"), \\n\\tFOREIGN KEY(\"SupportRepId\") REFERENCES \"Employee\" (\"EmployeeId\")\\n)\\n\\n/*\\n3 rows from Customer table:\\nCustomerId\\tFirstName\\tLastName\\tCompany\\tAddress\\tCity\\tState\\tCountry\\tPostalCode\\tPhone\\tFax\\tEmail\\tSupportRepId\\n1\\tLuís\\tGonçalves\\tEmbraer - Empresa Brasileira de Aeronáutica S.A.\\tAv. Brigadeiro Faria Lima, 2170\\tSão José dos Campos\\tSP\\tBrazil\\t12227-000\\t+55 (12) 3923-5555\\t+55 (12) 3923-5566\\tluisg@embraer.com.br\\t3\\n2\\tLeonie\\tKöhler\\tNone\\tTheodor-Heuss-Straße 34\\tStuttgart\\tNone\\tGermany\\t70174\\t+49 0711 2842222\\tNone\\tleonekohler@surfeu.de\\t5\\n3\\tFrançois\\tTremblay\\tNone\\t1498 rue Bélanger\\tMontréal\\tQC\\tCanada\\tH2G 1A7\\t+1 (514) 721-4711\\tNone\\tftremblay@gmail.com\\t3\\n*/\\n\\n\\nCREATE TABLE \"Employee\" (\\n\\t\"EmployeeId\" INTEGER NOT NULL, \\n\\t\"LastName\" NVARCHAR(20) NOT NULL, \\n\\t\"FirstName\" NVARCHAR(20) NOT NULL, \\n\\t\"Title\" NVARCHAR(30), \\n\\t\"ReportsTo\" INTEGER, \\n\\t\"BirthDate\" DATETIME, \\n\\t\"HireDate\" DATETIME, \\n\\t\"Address\" NVARCHAR(70), \\n\\t\"City\" NVARCHAR(40), \\n\\t\"State\" NVARCHAR(40), \\n\\t\"Country\" NVARCHAR(40), \\n\\t\"PostalCode\" NVARCHAR(10), \\n\\t\"Phone\" NVARCHAR(24), \\n\\t\"Fax\" NVARCHAR(24), \\n\\t\"Email\" NVARCHAR(60), \\n\\tPRIMARY KEY (\"EmployeeId\"), \\n\\tFOREIGN KEY(\"ReportsTo\") REFERENCES \"Employee\" (\"EmployeeId\")\\n)\\n\\n/*\\n3 rows from Employee table:\\nEmployeeId\\tLastName\\tFirstName\\tTitle\\tReportsTo\\tBirthDate\\tHireDate\\tAddress\\tCity\\tState\\tCountry\\tPostalCode\\tPhone\\tFax\\tEmail\\n1\\tAdams\\tAndrew\\tGeneral Manager\\tNone\\t1962-02-18 00:00:00\\t2002-08-14 00:00:00\\t11120 Jasper Ave NW\\tEdmonton\\tAB\\tCanada\\tT5K 2N1\\t+1 (780) 428-9482\\t+1 (780) 428-3457\\tandrew@chinookcorp.com\\n2\\tEdwards\\tNancy\\tSales Manager\\t1\\t1958-12-08 00:00:00\\t2002-05-01 00:00:00\\t825 8 Ave SW\\tCalgary\\tAB\\tCanada\\tT2P 2T3\\t+1 (403) 262-3443\\t+1 (403) 262-3322\\tnancy@chinookcorp.com\\n3\\tPeacock\\tJane\\tSales Support Agent\\t2\\t1973-08-29 00:00:00\\t2002-04-01 00:00:00\\t1111 6 Ave SW\\tCalgary\\tAB\\tCanada\\tT2P 5M5\\t+1 (403) 262-3443\\t+1 (403) 262-6712\\tjane@chinookcorp.com\\n*/\\n\\n\\nCREATE TABLE \"Genre\" (\\n\\t\"GenreId\" INTEGER NOT NULL, \\n\\t\"Name\" NVARCHAR(120), \\n\\tPRIMARY KEY (\"GenreId\")\\n)\\n\\n/*\\n3 rows from Genre table:\\nGenreId\\tName\\n1\\tRock\\n2\\tJazz\\n3\\tMetal\\n*/\\n\\n\\nCREATE TABLE \"Invoice\" (\\n\\t\"InvoiceId\" INTEGER NOT NULL, \\n\\t\"CustomerId\" INTEGER NOT NULL, \\n\\t\"InvoiceDate\" DATETIME NOT NULL, \\n\\t\"BillingAddress\" NVARCHAR(70), \\n\\t\"BillingCity\" NVARCHAR(40), \\n\\t\"BillingState\" NVARCHAR(40), \\n\\t\"BillingCountry\" NVARCHAR(40), \\n\\t\"BillingPostalCode\" NVARCHAR(10), \\n\\t\"Total\" NUMERIC(10, 2) NOT NULL, \\n\\tPRIMARY KEY (\"InvoiceId\"), \\n\\tFOREIGN KEY(\"CustomerId\") REFERENCES \"Customer\" (\"CustomerId\")\\n)\\n\\n/*\\n3 rows from Invoice table:\\nInvoiceId\\tCustomerId\\tInvoiceDate\\tBillingAddress\\tBillingCity\\tBillingState\\tBillingCountry\\tBillingPostalCode\\tTotal\\n1\\t2\\t2009-01-01 00:00:00\\tTheodor-Heuss-Straße 34\\tStuttgart\\tNone\\tGermany\\t70174\\t1.98\\n2\\t4\\t2009-01-02 00:00:00\\tUllevålsveien 14\\tOslo\\tNone\\tNorway\\t0171\\t3.96\\n3\\t8\\t2009-01-03 00:00:00\\tGrétrystraat 63\\tBrussels\\tNone\\tBelgium\\t1000\\t5.94\\n*/\\n\\n\\nCREATE TABLE \"InvoiceLine\" (\\n\\t\"InvoiceLineId\" INTEGER NOT NULL, \\n\\t\"InvoiceId\" INTEGER NOT NULL, \\n\\t\"TrackId\" INTEGER NOT NULL, \\n\\t\"UnitPrice\" NUMERIC(10, 2) NOT NULL, \\n\\t\"Quantity\" INTEGER NOT NULL, \\n\\tPRIMARY KEY (\"InvoiceLineId\"), \\n\\tFOREIGN KEY(\"TrackId\") REFERENCES \"Track\" (\"TrackId\"), \\n\\tFOREIGN KEY(\"InvoiceId\") REFERENCES \"Invoice\" (\"InvoiceId\")\\n)\\n\\n/*\\n3 rows from InvoiceLine table:\\nInvoiceLineId\\tInvoiceId\\tTrackId\\tUnitPrice\\tQuantity\\n1\\t1\\t2\\t0.99\\t1\\n2\\t1\\t4\\t0.99\\t1\\n3\\t2\\t6\\t0.99\\t1\\n*/\\n\\n\\nCREATE TABLE \"MediaType\" (\\n\\t\"MediaTypeId\" INTEGER NOT NULL, \\n\\t\"Name\" NVARCHAR(120), \\n\\tPRIMARY KEY (\"MediaTypeId\")\\n)\\n\\n/*\\n3 rows from MediaType table:\\nMediaTypeId\\tName\\n1\\tMPEG audio file\\n2\\tProtected AAC audio file\\n3\\tProtected MPEG-4 video file\\n*/\\n\\n\\nCREATE TABLE \"Playlist\" (\\n\\t\"PlaylistId\" INTEGER NOT NULL, \\n\\t\"Name\" NVARCHAR(120), \\n\\tPRIMARY KEY (\"PlaylistId\")\\n)\\n\\n/*\\n3 rows from Playlist table:\\nPlaylistId\\tName\\n1\\tMusic\\n2\\tMovies\\n3\\tTV Shows\\n*/\\n\\n\\nCREATE TABLE \"PlaylistTrack\" (\\n\\t\"PlaylistId\" INTEGER NOT NULL, \\n\\t\"TrackId\" INTEGER NOT NULL, \\n\\tPRIMARY KEY (\"PlaylistId\", \"TrackId\"), \\n\\tFOREIGN KEY(\"TrackId\") REFERENCES \"Track\" (\"TrackId\"), \\n\\tFOREIGN KEY(\"PlaylistId\") REFERENCES \"Playlist\" (\"PlaylistId\")\\n)\\n\\n/*\\n3 rows from PlaylistTrack table:\\nPlaylistId\\tTrackId\\n1\\t3402\\n1\\t3389\\n1\\t3390\\n*/\\n\\n\\nCREATE TABLE \"Track\" (\\n\\t\"TrackId\" INTEGER NOT NULL, \\n\\t\"Name\" NVARCHAR(200) NOT NULL, \\n\\t\"AlbumId\" INTEGER, \\n\\t\"MediaTypeId\" INTEGER NOT NULL, \\n\\t\"GenreId\" INTEGER, \\n\\t\"Composer\" NVARCHAR(220), \\n\\t\"Milliseconds\" INTEGER NOT NULL, \\n\\t\"Bytes\" INTEGER, \\n\\t\"UnitPrice\" NUMERIC(10, 2) NOT NULL, \\n\\tPRIMARY KEY (\"TrackId\"), \\n\\tFOREIGN KEY(\"MediaTypeId\") REFERENCES \"MediaType\" (\"MediaTypeId\"), \\n\\tFOREIGN KEY(\"GenreId\") REFERENCES \"Genre\" (\"GenreId\"), \\n\\tFOREIGN KEY(\"AlbumId\") REFERENCES \"Album\" (\"AlbumId\")\\n)\\n\\n/*\\n3 rows from Track table:\\nTrackId\\tName\\tAlbumId\\tMediaTypeId\\tGenreId\\tComposer\\tMilliseconds\\tBytes\\tUnitPrice\\n1\\tFor Those About To Rock (We Salute You)\\t1\\t1\\t1\\tAngus Young, Malcolm Young, Brian Johnson\\t343719\\t11170334\\t0.99\\n2\\tBalls to the Wall\\t2\\t2\\t1\\tNone\\t342562\\t5510424\\t0.99\\n3\\tFast As a Shark\\t3\\t2\\t1\\tF. Baltes, S. Kaufman, U. Dirkscneider & W. Hoffman\\t230619\\t3990994\\t0.99\\n*/',\n",
       " 'table_names': 'Album, Artist, Customer, Employee, Genre, Invoice, InvoiceLine, MediaType, Playlist, PlaylistTrack, Track'}"
      ]
     },
     "execution_count": 69,
     "metadata": {},
     "output_type": "execute_result"
    }
   ],
   "source": [
    "toolkit.get_context()"
   ]
  },
  {
   "cell_type": "code",
   "execution_count": 72,
   "metadata": {},
   "outputs": [
    {
     "data": {
      "text/plain": [
       "[QuerySQLDataBaseTool(description=\"Input to this tool is a detailed and correct SQL query, output is a result from the database. If the query is not correct, an error message will be returned. If an error is returned, rewrite the query, check the query, and try again. If you encounter an issue with Unknown column 'xxxx' in 'field list', use sql_db_schema to query the correct table fields.\", db=<langchain_community.utilities.sql_database.SQLDatabase object at 0x000001DBB1DA0740>),\n",
       " InfoSQLDatabaseTool(description='Input to this tool is a comma-separated list of tables, output is the schema and sample rows for those tables. Be sure that the tables actually exist by calling sql_db_list_tables first! Example Input: table1, table2, table3', db=<langchain_community.utilities.sql_database.SQLDatabase object at 0x000001DBB1DA0740>),\n",
       " ListSQLDatabaseTool(db=<langchain_community.utilities.sql_database.SQLDatabase object at 0x000001DBB1DA0740>),\n",
       " QuerySQLCheckerTool(description='Use this tool to double check if your query is correct before executing it. Always use this tool before executing a query with sql_db_query!', db=<langchain_community.utilities.sql_database.SQLDatabase object at 0x000001DBB1DA0740>, llm=ChatOllama(model='qwen2.5', base_url='http://localhost:11434'), llm_chain=LLMChain(verbose=False, prompt=PromptTemplate(input_variables=['dialect', 'query'], input_types={}, partial_variables={}, template='\\n{query}\\nDouble check the {dialect} query above for common mistakes, including:\\n- Using NOT IN with NULL values\\n- Using UNION when UNION ALL should have been used\\n- Using BETWEEN for exclusive ranges\\n- Data type mismatch in predicates\\n- Properly quoting identifiers\\n- Using the correct number of arguments for functions\\n- Casting to the correct data type\\n- Using the proper columns for joins\\n\\nIf there are any of the above mistakes, rewrite the query. If there are no mistakes, just reproduce the original query.\\n\\nOutput the final SQL query only.\\n\\nSQL Query: '), llm=ChatOllama(model='qwen2.5', base_url='http://localhost:11434'), output_parser=StrOutputParser(), llm_kwargs={}))]"
      ]
     },
     "execution_count": 72,
     "metadata": {},
     "output_type": "execute_result"
    }
   ],
   "source": [
    "tools = toolkit.get_tools()\n",
    "tools"
   ]
  },
  {
   "cell_type": "code",
   "execution_count": 74,
   "metadata": {},
   "outputs": [
    {
     "data": {
      "text/plain": [
       "\"[(1, 'For Those About To Rock We Salute You', 1), (2, 'Balls to the Wall', 2)]\""
      ]
     },
     "execution_count": 74,
     "metadata": {},
     "output_type": "execute_result"
    }
   ],
   "source": [
    "tools[0].invoke(\"select * from Album LIMIT 2\")"
   ]
  },
  {
   "cell_type": "code",
   "execution_count": 80,
   "metadata": {},
   "outputs": [],
   "source": [
    "# print(tools[1].invoke(\"Album,Customer\"))"
   ]
  },
  {
   "cell_type": "markdown",
   "metadata": {},
   "source": [
    "### Agent Coding"
   ]
  },
  {
   "cell_type": "code",
   "execution_count": 88,
   "metadata": {},
   "outputs": [],
   "source": [
    "from langgraph.prebuilt import create_react_agent\n",
    "from langchain_core.messages import HumanMessage"
   ]
  },
  {
   "cell_type": "code",
   "execution_count": 95,
   "metadata": {},
   "outputs": [
    {
     "data": {
      "image/jpeg": "[encoded data removed]",
      "text/plain": [
       "<IPython.core.display.Image object>"
      ]
     },
     "metadata": {},
     "output_type": "display_data"
    }
   ],
   "source": [
    "agent_executor = create_react_agent(llm, tools, state_modifier=system_prompt)\n",
    "\n",
    "display(Image(agent_executor.get_graph().draw_mermaid_png()))"
   ]
  },
  {
   "cell_type": "code",
   "execution_count": 98,
   "metadata": {},
   "outputs": [
    {
     "name": "stdout",
     "output_type": "stream",
     "text": [
      "{'agent': {'messages': [AIMessage(content='', additional_kwargs={}, response_metadata={'model': 'qwen2.5', 'created_at': '2024-12-01T10:32:48.0935279Z', 'message': {'role': 'assistant', 'content': '', 'tool_calls': [{'function': {'name': 'sql_db_list_tables', 'arguments': {}}}]}, 'done_reason': 'stop', 'done': True, 'total_duration': 11269516000, 'load_duration': 34488000, 'prompt_eval_count': 717, 'prompt_eval_duration': 810233000, 'eval_count': 18, 'eval_duration': 10415309000}, id='run-956ec9dd-e16a-4b51-9d09-0ca2cdd4a616-0', tool_calls=[{'name': 'sql_db_list_tables', 'args': {}, 'id': '08a9c52e-c4b1-4b24-96fa-f41a74636747', 'type': 'tool_call'}], usage_metadata={'input_tokens': 717, 'output_tokens': 18, 'total_tokens': 735})]}}\n",
      "{'tools': {'messages': [ToolMessage(content='Album, Artist, Customer, Employee, Genre, Invoice, InvoiceLine, MediaType, Playlist, PlaylistTrack, Track', name='sql_db_list_tables', id='1da940da-02fa-467d-bfca-0c8c68760733', tool_call_id='08a9c52e-c4b1-4b24-96fa-f41a74636747')]}}\n",
      "{'agent': {'messages': [AIMessage(content='', additional_kwargs={}, response_metadata={'model': 'qwen2.5', 'created_at': '2024-12-01T10:33:06.8518683Z', 'message': {'role': 'assistant', 'content': '', 'tool_calls': [{'function': {'name': 'sql_db_schema', 'arguments': {'table_names': 'Customer, Invoice'}}}]}, 'done_reason': 'stop', 'done': True, 'total_duration': 18744189800, 'load_duration': 23503800, 'prompt_eval_count': 776, 'prompt_eval_duration': 748916000, 'eval_count': 24, 'eval_duration': 17942131000}, id='run-eb775354-7b9e-4e43-a5fa-c4f3e0b5e118-0', tool_calls=[{'name': 'sql_db_schema', 'args': {'table_names': 'Customer, Invoice'}, 'id': 'b55382b7-72b9-45df-bdd2-6936e8abbd7c', 'type': 'tool_call'}], usage_metadata={'input_tokens': 776, 'output_tokens': 24, 'total_tokens': 800})]}}\n",
      "{'tools': {'messages': [ToolMessage(content='\\nCREATE TABLE \"Customer\" (\\n\\t\"CustomerId\" INTEGER NOT NULL, \\n\\t\"FirstName\" NVARCHAR(40) NOT NULL, \\n\\t\"LastName\" NVARCHAR(20) NOT NULL, \\n\\t\"Company\" NVARCHAR(80), \\n\\t\"Address\" NVARCHAR(70), \\n\\t\"City\" NVARCHAR(40), \\n\\t\"State\" NVARCHAR(40), \\n\\t\"Country\" NVARCHAR(40), \\n\\t\"PostalCode\" NVARCHAR(10), \\n\\t\"Phone\" NVARCHAR(24), \\n\\t\"Fax\" NVARCHAR(24), \\n\\t\"Email\" NVARCHAR(60) NOT NULL, \\n\\t\"SupportRepId\" INTEGER, \\n\\tPRIMARY KEY (\"CustomerId\"), \\n\\tFOREIGN KEY(\"SupportRepId\") REFERENCES \"Employee\" (\"EmployeeId\")\\n)\\n\\n/*\\n3 rows from Customer table:\\nCustomerId\\tFirstName\\tLastName\\tCompany\\tAddress\\tCity\\tState\\tCountry\\tPostalCode\\tPhone\\tFax\\tEmail\\tSupportRepId\\n1\\tLuís\\tGonçalves\\tEmbraer - Empresa Brasileira de Aeronáutica S.A.\\tAv. Brigadeiro Faria Lima, 2170\\tSão José dos Campos\\tSP\\tBrazil\\t12227-000\\t+55 (12) 3923-5555\\t+55 (12) 3923-5566\\tluisg@embraer.com.br\\t3\\n2\\tLeonie\\tKöhler\\tNone\\tTheodor-Heuss-Straße 34\\tStuttgart\\tNone\\tGermany\\t70174\\t+49 0711 2842222\\tNone\\tleonekohler@surfeu.de\\t5\\n3\\tFrançois\\tTremblay\\tNone\\t1498 rue Bélanger\\tMontréal\\tQC\\tCanada\\tH2G 1A7\\t+1 (514) 721-4711\\tNone\\tftremblay@gmail.com\\t3\\n*/\\n\\n\\nCREATE TABLE \"Invoice\" (\\n\\t\"InvoiceId\" INTEGER NOT NULL, \\n\\t\"CustomerId\" INTEGER NOT NULL, \\n\\t\"InvoiceDate\" DATETIME NOT NULL, \\n\\t\"BillingAddress\" NVARCHAR(70), \\n\\t\"BillingCity\" NVARCHAR(40), \\n\\t\"BillingState\" NVARCHAR(40), \\n\\t\"BillingCountry\" NVARCHAR(40), \\n\\t\"BillingPostalCode\" NVARCHAR(10), \\n\\t\"Total\" NUMERIC(10, 2) NOT NULL, \\n\\tPRIMARY KEY (\"InvoiceId\"), \\n\\tFOREIGN KEY(\"CustomerId\") REFERENCES \"Customer\" (\"CustomerId\")\\n)\\n\\n/*\\n3 rows from Invoice table:\\nInvoiceId\\tCustomerId\\tInvoiceDate\\tBillingAddress\\tBillingCity\\tBillingState\\tBillingCountry\\tBillingPostalCode\\tTotal\\n1\\t2\\t2009-01-01 00:00:00\\tTheodor-Heuss-Straße 34\\tStuttgart\\tNone\\tGermany\\t70174\\t1.98\\n2\\t4\\t2009-01-02 00:00:00\\tUllevålsveien 14\\tOslo\\tNone\\tNorway\\t0171\\t3.96\\n3\\t8\\t2009-01-03 00:00:00\\tGrétrystraat 63\\tBrussels\\tNone\\tBelgium\\t1000\\t5.94\\n*/', name='sql_db_schema', id='6aada68c-5b41-4b19-be8f-92f646658391', tool_call_id='b55382b7-72b9-45df-bdd2-6936e8abbd7c')]}}\n",
      "{'agent': {'messages': [AIMessage(content='', additional_kwargs={}, response_metadata={'model': 'qwen2.5', 'created_at': '2024-12-01T10:34:02.3503173Z', 'message': {'role': 'assistant', 'content': '', 'tool_calls': [{'function': {'name': 'sql_db_query_checker', 'arguments': {'query': 'SELECT C.Country, COUNT(I.InvoiceId) AS PurchaseCount FROM Customer C JOIN Invoice I ON C.CustomerId = I.CustomerId GROUP BY C.Country ORDER BY PurchaseCount DESC LIMIT 5'}}}]}, 'done_reason': 'stop', 'done': True, 'total_duration': 55471305400, 'load_duration': 32812200, 'prompt_eval_count': 1588, 'prompt_eval_duration': 2629077000, 'eval_count': 60, 'eval_duration': 52736802000}, id='run-700a7270-5b14-4b51-b0f5-65feacaabafd-0', tool_calls=[{'name': 'sql_db_query_checker', 'args': {'query': 'SELECT C.Country, COUNT(I.InvoiceId) AS PurchaseCount FROM Customer C JOIN Invoice I ON C.CustomerId = I.CustomerId GROUP BY C.Country ORDER BY PurchaseCount DESC LIMIT 5'}, 'id': 'c05d8b77-86a6-4bba-9c97-09ab5524c242', 'type': 'tool_call'}], usage_metadata={'input_tokens': 1588, 'output_tokens': 60, 'total_tokens': 1648})]}}\n",
      "{'tools': {'messages': [ToolMessage(content=\"The provided SQL query does not contain any common mistakes based on the conditions you've listed. Here is the original query reproduced:\\n\\n```sql\\nSELECT C.Country, COUNT(I.InvoiceId) AS PurchaseCount \\nFROM Customer C \\nJOIN Invoice I ON C.CustomerId = I.CustomerId \\nGROUP BY C.Country \\nORDER BY PurchaseCount DESC \\nLIMIT 5;\\n```\\n\\nIf there are no mistakes, this is the correct SQL query.\", name='sql_db_query_checker', id='c8dfc74a-aa2f-4608-bdf1-01953cc9d044', tool_call_id='c05d8b77-86a6-4bba-9c97-09ab5524c242')]}}\n",
      "{'agent': {'messages': [AIMessage(content='', additional_kwargs={}, response_metadata={'model': 'qwen2.5', 'created_at': '2024-12-01T10:35:48.3561679Z', 'message': {'role': 'assistant', 'content': '', 'tool_calls': [{'function': {'name': 'sql_db_query', 'arguments': {'query': 'SELECT C.Country, COUNT(I.InvoiceId) AS PurchaseCount FROM Customer C JOIN Invoice I ON C.CustomerId = I.CustomerId GROUP BY C.Country ORDER BY PurchaseCount DESC LIMIT 5'}}}]}, 'done_reason': 'stop', 'done': True, 'total_duration': 54141873600, 'load_duration': 28866600, 'prompt_eval_count': 1752, 'prompt_eval_duration': 4334831000, 'eval_count': 59, 'eval_duration': 49676535000}, id='run-bea17a21-a891-4d20-aa32-c02fc8b495c7-0', tool_calls=[{'name': 'sql_db_query', 'args': {'query': 'SELECT C.Country, COUNT(I.InvoiceId) AS PurchaseCount FROM Customer C JOIN Invoice I ON C.CustomerId = I.CustomerId GROUP BY C.Country ORDER BY PurchaseCount DESC LIMIT 5'}, 'id': 'b2ee11a7-faad-4750-9538-9c6efc6aa93d', 'type': 'tool_call'}], usage_metadata={'input_tokens': 1752, 'output_tokens': 59, 'total_tokens': 1811})]}}\n",
      "{'tools': {'messages': [ToolMessage(content=\"[('USA', 91), ('Canada', 56), ('France', 35), ('Brazil', 35), ('Germany', 28)]\", name='sql_db_query', id='b859f68f-13a0-4e57-b11e-484fa38b1f82', tool_call_id='b2ee11a7-faad-4750-9538-9c6efc6aa93d')]}}\n",
      "{'agent': {'messages': [AIMessage(content='The country with the most purchases is the USA, followed by Canada, France, Brazil, and Germany. Here are the top 5 countries based on the number of purchases:\\n\\n1. USA - 91 purchases\\n2. Canada - 56 purchases\\n3. France - 35 purchases\\n4. Brazil - 35 purchases\\n5. Germany - 28 purchases', additional_kwargs={}, response_metadata={'model': 'qwen2.5', 'created_at': '2024-12-01T10:36:51.4444254Z', 'message': {'role': 'assistant', 'content': 'The country with the most purchases is the USA, followed by Canada, France, Brazil, and Germany. Here are the top 5 countries based on the number of purchases:\\n\\n1. USA - 91 purchases\\n2. Canada - 56 purchases\\n3. France - 35 purchases\\n4. Brazil - 35 purchases\\n5. Germany - 28 purchases'}, 'done_reason': 'stop', 'done': True, 'total_duration': 63053837700, 'load_duration': 58373600, 'prompt_eval_count': 1863, 'prompt_eval_duration': 1097492000, 'eval_count': 80, 'eval_duration': 61767847000}, id='run-3b8b7b81-b11e-4f95-927b-5f685fd0fdd2-0', usage_metadata={'input_tokens': 1863, 'output_tokens': 80, 'total_tokens': 1943})]}}\n"
     ]
    }
   ],
   "source": [
    "question = \"Which country's customers have made the most purchases?\"\n",
    "query = {\"messages\": [HumanMessage(question)]}\n",
    "\n",
    "for step in agent_executor.stream(query, stream_mode=\"updates\"):\n",
    "    print(step)\n",
    "    # step['messages'][-1].pretty_print()"
   ]
  }
 ],
 "metadata": {
  "kernelspec": {
   "display_name": "ml",
   "language": "python",
   "name": "python3"
  },
  "language_info": {
   "codemirror_mode": {
    "name": "ipython",
    "version": 3
   },
   "file_extension": ".py",
   "mimetype": "text/x-python",
   "name": "python",
   "nbconvert_exporter": "python",
   "pygments_lexer": "ipython3",
   "version": "3.12.4"
  }
 },
 "nbformat": 4,
 "nbformat_minor": 2
}
